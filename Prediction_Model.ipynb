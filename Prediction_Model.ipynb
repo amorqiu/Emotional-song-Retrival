{
 "cells": [
  {
   "cell_type": "code",
   "execution_count": 37,
   "metadata": {},
   "outputs": [],
   "source": [
    "import pandas as pd\n",
    "from label import get_label"
   ]
  },
  {
   "cell_type": "code",
   "execution_count": 55,
   "metadata": {},
   "outputs": [],
   "source": [
    "df2=pd.read_csv('cleaned_query.csv').drop('Unnamed: 0',axis=1)"
   ]
  },
  {
   "cell_type": "code",
   "execution_count": 3,
   "metadata": {},
   "outputs": [],
   "source": [
    "import numpy as np"
   ]
  },
  {
   "cell_type": "code",
   "execution_count": 203,
   "metadata": {},
   "outputs": [],
   "source": [
    "# pip install langdetect"
   ]
  },
  {
   "cell_type": "code",
   "execution_count": 61,
   "metadata": {},
   "outputs": [],
   "source": [
    "from metrics import MAP, NDCG"
   ]
  },
  {
   "cell_type": "code",
   "execution_count": 18,
   "metadata": {},
   "outputs": [],
   "source": [
    "from rank_bm25 import BM25Okapi,BM25L, BM25Plus\n",
    "import numpy as np\n",
    "import re\n",
    "import random\n",
    "from langdetect import detect_langs\n",
    "from nltk.tokenize import word_tokenize #this package tokenize word by whitespace and punctuation"
   ]
  },
  {
   "cell_type": "code",
   "execution_count": 19,
   "metadata": {},
   "outputs": [],
   "source": [
    "import nltk\n",
    "from nltk.stem import WordNetLemmatizer \n",
    "from nltk.corpus import wordnet"
   ]
  },
  {
   "cell_type": "code",
   "execution_count": 20,
   "metadata": {},
   "outputs": [],
   "source": [
    "song_df=pd.read_csv('data/emotionsong.csv').drop('Unnamed: 0',axis=1)"
   ]
  },
  {
   "cell_type": "code",
   "execution_count": 21,
   "metadata": {},
   "outputs": [],
   "source": [
    "q_df=pd.read_csv('data/query_rating.csv',index_col=[0]).reset_index()"
   ]
  },
  {
   "cell_type": "code",
   "execution_count": 23,
   "metadata": {
    "scrolled": true
   },
   "outputs": [],
   "source": [
    "# song_df.head()"
   ]
  },
  {
   "cell_type": "code",
   "execution_count": 24,
   "metadata": {},
   "outputs": [],
   "source": [
    "# get testing queries and corresponding query_id\n",
    "queries=q_df[['query_id','query']].drop_duplicates().set_index('query_id')"
   ]
  },
  {
   "cell_type": "code",
   "execution_count": 25,
   "metadata": {},
   "outputs": [
    {
     "data": {
      "text/plain": [
       "(20, 1)"
      ]
     },
     "execution_count": 25,
     "metadata": {},
     "output_type": "execute_result"
    }
   ],
   "source": [
    "queries.shape"
   ]
  },
  {
   "cell_type": "code",
   "execution_count": 366,
   "metadata": {},
   "outputs": [
    {
     "data": {
      "text/plain": [
       "Int64Index([  25,   32,   66,   91,  488, 2235,  152,  155,  157,  160,  176,\n",
       "             174,  272, 2544,  412, 3509, 7419, 1303,  659,  189],\n",
       "           dtype='int64', name='query_id')"
      ]
     },
     "execution_count": 366,
     "metadata": {},
     "output_type": "execute_result"
    }
   ],
   "source": [
    "queries.index"
   ]
  },
  {
   "cell_type": "markdown",
   "metadata": {},
   "source": [
    "### EDA"
   ]
  },
  {
   "cell_type": "code",
   "execution_count": 26,
   "metadata": {},
   "outputs": [
    {
     "data": {
      "text/plain": [
       "Text(0.5, 1.0, 'Rating Distribution in Annotation')"
      ]
     },
     "execution_count": 26,
     "metadata": {},
     "output_type": "execute_result"
    },
    {
     "data": {
      "image/png": "[encoded data removed]",
      "text/plain": [
       "<Figure size 432x288 with 1 Axes>"
      ]
     },
     "metadata": {
      "needs_background": "light"
     },
     "output_type": "display_data"
    }
   ],
   "source": [
    "import seaborn as sns\n",
    "import matplotlib.pyplot as plt\n",
    "ax = sns.barplot(x=\"rating\", y=\"rating\", data=q_df, estimator=lambda x: len(x) / len(q_df) * 100)\n",
    "ax.set(ylabel=\"Percent\")\n",
    "plt.title('Rating Distribution in Annotation')"
   ]
  },
  {
   "cell_type": "markdown",
   "metadata": {},
   "source": [
    "### Baseline"
   ]
  },
  {
   "cell_type": "code",
   "execution_count": 27,
   "metadata": {},
   "outputs": [],
   "source": [
    "def token(lyrics):\n",
    "    tokens=word_tokenize(lyrics)\n",
    "    return tokens"
   ]
  },
  {
   "cell_type": "code",
   "execution_count": 28,
   "metadata": {},
   "outputs": [],
   "source": [
    "# def get_songs(index,row):\n",
    "#     corpus_df=song_df.copy()\n",
    "#     bm25 = BM25Okapi(corpus_df)\n",
    "#     doc_scores=bm25.get_scores(row['query'].split(\" \"))\n",
    "# #     print(len(doc_scores))\n",
    "# #     print(corpus_df.shape)\n",
    "#     corpus_df['rank_score']=doc_scores\n",
    "#     filtered=q_df[q_df['query']==row['query']]\n",
    "#     song_ids=filtered['song_id'].values\n",
    "#     val_score=corpus_df[corpus_df['code'].isin(song_ids)]   \n",
    "#     newdf=val_score.sort_values(by='rank_score',ascending=False)[0:10]\n",
    "#     origin=[filtered[filtered['song_id']==i]['rating'].values[0] for i in newdf['code']]\n",
    "#     relevance=np.array([i for i in origin])\n",
    "#     return relevance"
   ]
  },
  {
   "cell_type": "code",
   "execution_count": 102,
   "metadata": {},
   "outputs": [],
   "source": [
    "def get_songs(index,row,corpus):\n",
    "    rating=[]\n",
    "    corpus_df=song_df.copy()\n",
    "    bm25 = BM25Okapi(corpus)\n",
    "    doc_scores=bm25.get_scores(row['query'].split(\" \"))\n",
    "    print(len(doc_scores))\n",
    "    print(corpus_df.shape)\n",
    "    corpus_df['rank_score']=doc_scores\n",
    "    filtered=q_df[q_df['query']==row['query']]\n",
    "    song_ids=filtered['song_id'].values\n",
    "    val_score=corpus_df.sort_values(by='rank_score',ascending=False)[0:10]\n",
    "    for index,row in val_score.iterrows():\n",
    "        if row['code'] in song_ids:\n",
    "            rating.append(filtered[filtered['song_id']==row['code']]['rating'].values[0])\n",
    "        else:\n",
    "            rating.append(-2)        \n",
    "    relevance=rating\n",
    "    return relevance"
   ]
  },
  {
   "cell_type": "code",
   "execution_count": 93,
   "metadata": {},
   "outputs": [
    {
     "data": {
      "text/html": [
       "<div>\n",
       "<style scoped>\n",
       "    .dataframe tbody tr th:only-of-type {\n",
       "        vertical-align: middle;\n",
       "    }\n",
       "\n",
       "    .dataframe tbody tr th {\n",
       "        vertical-align: top;\n",
       "    }\n",
       "\n",
       "    .dataframe thead th {\n",
       "        text-align: right;\n",
       "    }\n",
       "</style>\n",
       "<table border=\"1\" class=\"dataframe\">\n",
       "  <thead>\n",
       "    <tr style=\"text-align: right;\">\n",
       "      <th></th>\n",
       "      <th>query</th>\n",
       "    </tr>\n",
       "    <tr>\n",
       "      <th>query_id</th>\n",
       "      <th></th>\n",
       "    </tr>\n",
       "  </thead>\n",
       "  <tbody>\n",
       "    <tr>\n",
       "      <th>25</th>\n",
       "      <td>You had no right to tell me you ever had feelings for me.</td>\n",
       "    </tr>\n",
       "    <tr>\n",
       "      <th>32</th>\n",
       "      <td>Oh, it's so romantic to send people off on their honeymoon.</td>\n",
       "    </tr>\n",
       "    <tr>\n",
       "      <th>66</th>\n",
       "      <td>This witness won't return my calls so we're gonna see if we can surprise him coming home.</td>\n",
       "    </tr>\n",
       "    <tr>\n",
       "      <th>91</th>\n",
       "      <td>Okay, okay, come on, you can do it. You can do it!</td>\n",
       "    </tr>\n",
       "    <tr>\n",
       "      <th>488</th>\n",
       "      <td>Fine! You go learn from your qualified instructor! But don't come crying to me when everyone's sick and tired of hearing you play</td>\n",
       "    </tr>\n",
       "    <tr>\n",
       "      <th>2235</th>\n",
       "      <td>Oh anyway, I just wanted to say how wonderful I think you are.</td>\n",
       "    </tr>\n",
       "    <tr>\n",
       "      <th>152</th>\n",
       "      <td>I mean, well, 'cause when I was growing up, you know my dad left, and my mother died, and my stepfather went to jail, so I barely had enough pieces of parents to make one whole one.</td>\n",
       "    </tr>\n",
       "    <tr>\n",
       "      <th>155</th>\n",
       "      <td>It's just, it's just the luckiest baby in the whole world.</td>\n",
       "    </tr>\n",
       "    <tr>\n",
       "      <th>157</th>\n",
       "      <td>Okay, it's a typical New York City apartment. Two girls are just hanging out.</td>\n",
       "    </tr>\n",
       "    <tr>\n",
       "      <th>160</th>\n",
       "      <td>It's my new perfume. Why don't you come closer where you can</td>\n",
       "    </tr>\n",
       "    <tr>\n",
       "      <th>176</th>\n",
       "      <td>Oh my God! I dont believe it! Oh, you poor bunny.</td>\n",
       "    </tr>\n",
       "    <tr>\n",
       "      <th>174</th>\n",
       "      <td>My marriage, I think my marriage is um, is kinda over.</td>\n",
       "    </tr>\n",
       "    <tr>\n",
       "      <th>272</th>\n",
       "      <td>Check it out, he's winning!  Peter is winning!</td>\n",
       "    </tr>\n",
       "    <tr>\n",
       "      <th>2544</th>\n",
       "      <td>Well, I-I got this blinding pain in my stomach when I was lifting weights before, then I uh passed out and uh, havent been able to stand up since.</td>\n",
       "    </tr>\n",
       "    <tr>\n",
       "      <th>412</th>\n",
       "      <td>With the, with the lilies, and-and the song, and the stars!</td>\n",
       "    </tr>\n",
       "    <tr>\n",
       "      <th>3509</th>\n",
       "      <td>You know you probably didn't know this, but back in high school, I had a, um, major crush on you.</td>\n",
       "    </tr>\n",
       "    <tr>\n",
       "      <th>7419</th>\n",
       "      <td>But only because I was up all night worried about this  meeting, ain’t that funny?</td>\n",
       "    </tr>\n",
       "    <tr>\n",
       "      <th>1303</th>\n",
       "      <td>Oh my God. Okay, go into the bathroom, use whatever you want, just don't ever tell me what you did in there.</td>\n",
       "    </tr>\n",
       "    <tr>\n",
       "      <th>659</th>\n",
       "      <td>Wait a minute, the house was built on radioactive waste, and an ancient Indian burial ground? That would never happen.</td>\n",
       "    </tr>\n",
       "    <tr>\n",
       "      <th>189</th>\n",
       "      <td>Look, when it started I was just trying to be nice to her because she was my brother's girlfriend.</td>\n",
       "    </tr>\n",
       "  </tbody>\n",
       "</table>\n",
       "</div>"
      ],
      "text/plain": [
       "                                                                                                                                                                                          query\n",
       "query_id                                                                                                                                                                                       \n",
       "25                                                                                                                                    You had no right to tell me you ever had feelings for me.\n",
       "32                                                                                                                                  Oh, it's so romantic to send people off on their honeymoon.\n",
       "66                                                                                                    This witness won't return my calls so we're gonna see if we can surprise him coming home.\n",
       "91                                                                                                                                           Okay, okay, come on, you can do it. You can do it!\n",
       "488                                                           Fine! You go learn from your qualified instructor! But don't come crying to me when everyone's sick and tired of hearing you play\n",
       "2235                                                                                                                             Oh anyway, I just wanted to say how wonderful I think you are.\n",
       "152       I mean, well, 'cause when I was growing up, you know my dad left, and my mother died, and my stepfather went to jail, so I barely had enough pieces of parents to make one whole one.\n",
       "155                                                                                                                                  It's just, it's just the luckiest baby in the whole world.\n",
       "157                                                                                                               Okay, it's a typical New York City apartment. Two girls are just hanging out.\n",
       "160                                                                                                                                It's my new perfume. Why don't you come closer where you can\n",
       "176                                                                                                                                          Oh my God! I dont believe it! Oh, you poor bunny.\n",
       "174                                                                                                                                      My marriage, I think my marriage is um, is kinda over.\n",
       "272                                                                                                                                              Check it out, he's winning!  Peter is winning!\n",
       "2544                                        Well, I-I got this blinding pain in my stomach when I was lifting weights before, then I uh passed out and uh, havent been able to stand up since.\n",
       "412                                                                                                                                 With the, with the lilies, and-and the song, and the stars!\n",
       "3509                                                                                          You know you probably didn't know this, but back in high school, I had a, um, major crush on you.\n",
       "7419                                                                                                         But only because I was up all night worried about this  meeting, ain’t that funny?\n",
       "1303                                                                               Oh my God. Okay, go into the bathroom, use whatever you want, just don't ever tell me what you did in there.\n",
       "659                                                                      Wait a minute, the house was built on radioactive waste, and an ancient Indian burial ground? That would never happen.\n",
       "189                                                                                          Look, when it started I was just trying to be nice to her because she was my brother's girlfriend."
      ]
     },
     "execution_count": 93,
     "metadata": {},
     "output_type": "execute_result"
    }
   ],
   "source": [
    "queries"
   ]
  },
  {
   "cell_type": "code",
   "execution_count": 96,
   "metadata": {},
   "outputs": [],
   "source": [
    "song_df['tokens']=song_df['lyrics'].map(token)\n",
    "corpus=song_df['tokens'].values"
   ]
  },
  {
   "cell_type": "code",
   "execution_count": 111,
   "metadata": {},
   "outputs": [
    {
     "name": "stdout",
     "output_type": "stream",
     "text": [
      "2937\n",
      "(2937, 11)\n",
      "[-2, -2, -2, -2, -2, -2, -2, -2, -2, -2]\n",
      "2937\n",
      "(2937, 11)\n",
      "[-2, -2, -2, -2, -2, -2, -2, -2, -2, -2]\n",
      "2937\n",
      "(2937, 11)\n",
      "[-2, -2, -2, -2, -2, -2, -2, -2, -2, -2]\n",
      "2937\n",
      "(2937, 11)\n",
      "[-2, -2, 0.0, -2, 1.0, -2, -2, -2, 0.0, 1.0]\n",
      "2937\n",
      "(2937, 11)\n",
      "[-2, -2, -2, -2, -2, -2, -2, -2, -2, -2]\n",
      "2937\n",
      "(2937, 11)\n",
      "[-2, -2, -2, -2, -2, -2, -2, -2, -2, -2]\n",
      "2937\n",
      "(2937, 11)\n",
      "[-2, -2, -2, -2, -2, -2, -2, -2, -2, -2]\n",
      "2937\n",
      "(2937, 11)\n",
      "[-2, -2, -2, -2, -2, -2, -2, -2, -2, -2]\n",
      "2937\n",
      "(2937, 11)\n",
      "[-2, -2, -2, -2, -2, -2, -2, -2, -2, -2]\n",
      "2937\n",
      "(2937, 11)\n",
      "[-2, -2, -2, -2, -2, -2, -2, -2, -2, -2]\n",
      "2937\n",
      "(2937, 11)\n",
      "[-2.0, -2, -2, -2, -2, -2, -2, -2, -2, -2]\n",
      "2937\n",
      "(2937, 11)\n",
      "[-2, -2, -2, -2, -2, -2, -2, -2, -2, -2]\n",
      "2937\n",
      "(2937, 11)\n",
      "[-2, -2, -2, -2, -2, -2, -2, -2, -2, -2]\n",
      "2937\n",
      "(2937, 11)\n",
      "[-2, -2, -2, -2, -2, -2, -2, -2, -2, -2]\n",
      "2937\n",
      "(2937, 11)\n",
      "[-2, -2, -2, -2, -2, -2, -2, -2, -2, -2]\n",
      "2937\n",
      "(2937, 11)\n",
      "[-2, -2, -2, 0.0, -2, -2, -2, -2, -2, -2]\n",
      "2937\n",
      "(2937, 11)\n",
      "[-2, -2, -2, -2, -2, -2, -2, -2, -2, -2]\n",
      "2937\n",
      "(2937, 11)\n",
      "[-2, -2, -2, -2, -2, -2, -2, -2, -2, -2]\n",
      "2937\n",
      "(2937, 11)\n",
      "[-2, -2, -2, -2, -2, -2, -2, -2, -2, -2]\n",
      "2937\n",
      "(2937, 11)\n",
      "[-2, -2, -2, -2, -2, -2, -2, -2, -2, -2]\n"
     ]
    }
   ],
   "source": [
    "precision_list=[]\n",
    "ndcg_10list=[]\n",
    "for index,row in queries.iterrows():\n",
    "    relevance=get_songs(index,row,corpus)\n",
    "    print(relevance)\n",
    "    precision=MAP(relevance)\n",
    "    precision_list.append(precision)\n",
    "    ndcg_10=NDCG(relevance)\n",
    "    ndcg_10list.append(ndcg_10)"
   ]
  },
  {
   "cell_type": "code",
   "execution_count": 104,
   "metadata": {},
   "outputs": [],
   "source": [
    "baseline['ndcg']=ndcg_10list\n",
    "baseline['map']=precision_list"
   ]
  },
  {
   "cell_type": "code",
   "execution_count": 112,
   "metadata": {},
   "outputs": [],
   "source": [
    "baseline['id']=queries.index"
   ]
  },
  {
   "cell_type": "code",
   "execution_count": 46,
   "metadata": {},
   "outputs": [],
   "source": [
    "baseline=baseline.set_index('id')"
   ]
  },
  {
   "cell_type": "code",
   "execution_count": 47,
   "metadata": {},
   "outputs": [],
   "source": [
    "plot_df=baseline.merge(query, how='left',left_index=True, right_index=True)"
   ]
  },
  {
   "cell_type": "code",
   "execution_count": 125,
   "metadata": {},
   "outputs": [
    {
     "data": {
      "image/png": "[encoded data removed]",
      "text/plain": [
       "<Figure size 432x288 with 1 Axes>"
      ]
     },
     "metadata": {
      "needs_background": "light"
     },
     "output_type": "display_data"
    }
   ],
   "source": [
    "import matplotlib.pyplot as plt\n",
    "# plt.plot(ndcg_10list,'g*', precision_list, 'ro')\n",
    "# plt.title('Distribution of NDCG and MAP')\n",
    "# plt.show()\n",
    "x_list=range(20)\n",
    "plt.plot(x_list, ndcg_10list, label='NDCG@10')\n",
    "plt.plot(x_list, precision_list, label='MAP')\n",
    "plt.legend()\n",
    "plt.title('Distribution of NDCG@10 and MAP')\n",
    "plt.show()"
   ]
  },
  {
   "cell_type": "code",
   "execution_count": 108,
   "metadata": {},
   "outputs": [],
   "source": [
    "base_precision=sum(precision_list)/len(precision_list)\n",
    "base_ndcg=sum(ndcg_10list)/len(ndcg_10list)"
   ]
  },
  {
   "cell_type": "code",
   "execution_count": 109,
   "metadata": {},
   "outputs": [
    {
     "name": "stdout",
     "output_type": "stream",
     "text": [
      "0.0 0.9698173253027391\n"
     ]
    }
   ],
   "source": [
    "print(base_precision,base_ndcg)"
   ]
  },
  {
   "cell_type": "markdown",
   "metadata": {},
   "source": [
    "### Data Preprocessing"
   ]
  },
  {
   "cell_type": "code",
   "execution_count": 67,
   "metadata": {},
   "outputs": [],
   "source": [
    "#fliter out no lyrics songs\n",
    "song_df=song_df[song_df['lyrics']!='no lyrics']"
   ]
  },
  {
   "cell_type": "code",
   "execution_count": 192,
   "metadata": {},
   "outputs": [],
   "source": [
    "# this code is to check some examples of lyrics\n",
    "# print(song_df['lyrics'].iloc[3])  "
   ]
  },
  {
   "cell_type": "markdown",
   "metadata": {},
   "source": [
    "#### Deal with brackets"
   ]
  },
  {
   "cell_type": "code",
   "execution_count": 68,
   "metadata": {},
   "outputs": [
    {
     "name": "stdout",
     "output_type": "stream",
     "text": [
      "Number of round brackets: 49758\n"
     ]
    }
   ],
   "source": [
    "text_in_round_brackets = sum(list(song_df['lyrics'].map(lambda s: re.findall(r'\\((.*?)\\)',s))), [])\n",
    "print('Number of round brackets: {}'.format(len(text_in_round_brackets)))"
   ]
  },
  {
   "cell_type": "code",
   "execution_count": null,
   "metadata": {},
   "outputs": [],
   "source": [
    "random.seed(0)\n",
    "random.choices(text_in_round_brackets, k=20)"
   ]
  },
  {
   "cell_type": "code",
   "execution_count": 185,
   "metadata": {},
   "outputs": [
    {
     "name": "stdout",
     "output_type": "stream",
     "text": [
      "Number of square brackets: 0\n"
     ]
    }
   ],
   "source": [
    "text_in_square_brackets = sum(list(song_df['lyrics'].map(lambda s: re.findall(r'\\[(.*?)\\]',s))), [])\n",
    "print('Number of square brackets: {}'.format(len(text_in_square_brackets)))"
   ]
  },
  {
   "cell_type": "code",
   "execution_count": 193,
   "metadata": {},
   "outputs": [
    {
     "name": "stdout",
     "output_type": "stream",
     "text": [
      "Number of curly brackets: 195\n"
     ]
    }
   ],
   "source": [
    "text_in_curly_brackets = sum(list(song_df['lyrics'].map(lambda s: re.findall(r'\\{(.*?)\\}',s))), [])\n",
    "print('Number of curly brackets: {}'.format(len(text_in_curly_brackets)))"
   ]
  },
  {
   "cell_type": "code",
   "execution_count": null,
   "metadata": {},
   "outputs": [],
   "source": [
    "random.seed(0)\n",
    "random.choices(text_in_curly_brackets, k=20)"
   ]
  },
  {
   "cell_type": "markdown",
   "metadata": {},
   "source": [
    "It seems contents inside the curly bracket and round bracket are a part of the lyrics, so I will just remove the brackets and keep the contents inside"
   ]
  },
  {
   "cell_type": "code",
   "execution_count": 196,
   "metadata": {},
   "outputs": [],
   "source": [
    "# remove round brackets and curly brackets but not text within\n",
    "song_df['lyrics'] = song_df['lyrics'].map(lambda s: re.sub(r'\\(|\\)', '', s))\n",
    "song_df['lyrics'] = song_df['lyrics'].map(lambda s: re.sub(r'\\{|\\}', '', s))"
   ]
  },
  {
   "cell_type": "markdown",
   "metadata": {},
   "source": [
    "#### Remove Line Breaks"
   ]
  },
  {
   "cell_type": "code",
   "execution_count": 70,
   "metadata": {},
   "outputs": [],
   "source": [
    "song_df['lyrics'] = song_df['lyrics'].map(lambda s: re.sub(r' \\n|\\n', '', s))"
   ]
  },
  {
   "cell_type": "markdown",
   "metadata": {},
   "source": [
    "#### Remove non-English Lyrics"
   ]
  },
  {
   "cell_type": "code",
   "execution_count": 71,
   "metadata": {},
   "outputs": [
    {
     "name": "stdout",
     "output_type": "stream",
     "text": [
      "Number of english songs: 2937\n",
      "Number of non-english songs: 340\n"
     ]
    }
   ],
   "source": [
    "def get_eng_prob(text):\n",
    "    detections = detect_langs(text)\n",
    "    for detection in detections:\n",
    "        if detection.lang == 'en':\n",
    "            return detection.prob\n",
    "    return 0\n",
    "\n",
    "song_df['en_prob'] = song_df['lyrics'].map(get_eng_prob)\n",
    "\n",
    "print('Number of english songs: {}'.format(sum(song_df['en_prob'] >= 0.5)))\n",
    "print('Number of non-english songs: {}'.format(sum(song_df['en_prob'] < 0.5)))"
   ]
  },
  {
   "cell_type": "code",
   "execution_count": 72,
   "metadata": {},
   "outputs": [],
   "source": [
    "song_df = song_df.loc[song_df['en_prob'] >= 0.5]"
   ]
  },
  {
   "cell_type": "code",
   "execution_count": 73,
   "metadata": {},
   "outputs": [],
   "source": [
    "def lower_url(file):\n",
    "    file_lowered=file.lower() \n",
    "    file_url=re.sub(r'^https?:\\/\\/.*[\\r\\n]*', '', file_lowered, flags=re.MULTILINE) #remove url\n",
    "    emoji_pattern = re.compile(\"[\"\n",
    "                           u\"\\U0001F600-\\U0001F64F\"  \n",
    "                           u\"\\U0001F300-\\U0001F5FF\"  # symbols & pictographs\n",
    "                           u\"\\U0001F680-\\U0001F6FF\"  # transport & map symbols\n",
    "                           u\"\\U0001F1E0-\\U0001F1FF\"  # flags (iOS)\n",
    "                           u\"\\U00002702-\\U000027B0\"\n",
    "                           u\"\\U000024C2-\\U0001F251\"\n",
    "                           \"]+\", flags=re.UNICODE)\n",
    "    return emoji_pattern.sub(r'', file_url)\n",
    "# lower vocab and remove url and emoji"
   ]
  },
  {
   "cell_type": "code",
   "execution_count": 74,
   "metadata": {},
   "outputs": [],
   "source": [
    "song_df['lyrics'] = song_df['lyrics'].map(lower_url)"
   ]
  },
  {
   "cell_type": "code",
   "execution_count": 75,
   "metadata": {},
   "outputs": [],
   "source": [
    "song_df['tokens']= song_df['lyrics'].map(token)"
   ]
  },
  {
   "cell_type": "code",
   "execution_count": 76,
   "metadata": {},
   "outputs": [],
   "source": [
    "def remove_dig(tokens):\n",
    "    #remove punctuations & numbers\n",
    "    filtered_words = [re.sub(r'\\d+', '', word) for word in tokens]\n",
    "    return filtered_words\n",
    "# remove digits "
   ]
  },
  {
   "cell_type": "code",
   "execution_count": 77,
   "metadata": {},
   "outputs": [],
   "source": [
    "import re\n",
    "output = re.sub(r'\\d+', '', '123hello 456world')"
   ]
  },
  {
   "cell_type": "code",
   "execution_count": 78,
   "metadata": {},
   "outputs": [],
   "source": [
    "song_df['tokens']= song_df['tokens'].map(remove_dig)"
   ]
  },
  {
   "cell_type": "code",
   "execution_count": 79,
   "metadata": {},
   "outputs": [],
   "source": [
    "def remove_stop(tokens):\n",
    "    f = open(\"stoplist.txt\", \"r\")\n",
    "    stoplist=f.read()\n",
    "    words = [w for w in tokens if not w in stoplist]\n",
    "    return words\n",
    "# remove stopwords"
   ]
  },
  {
   "cell_type": "code",
   "execution_count": 80,
   "metadata": {},
   "outputs": [],
   "source": [
    "song_df['tokens']= song_df['tokens'].map(remove_stop)"
   ]
  },
  {
   "cell_type": "code",
   "execution_count": 81,
   "metadata": {},
   "outputs": [],
   "source": [
    "wnl = WordNetLemmatizer()\n",
    "def get_pos(tag):\n",
    "    if tag.startswith('J'):\n",
    "        return wordnet.ADJ\n",
    "    elif tag.startswith('V'):\n",
    "        return wordnet.VERB\n",
    "    elif tag.startswith('N'):\n",
    "        return wordnet.NOUN\n",
    "    elif tag.startswith('R'):\n",
    "        return wordnet.ADV\n",
    "    else:\n",
    "        return wordnet.NOUN\n",
    "def lemma_token(tokens):\n",
    "    tagged_words=nltk.pos_tag(tokens)\n",
    "    new_token = []\n",
    "    for i in tagged_words:\n",
    "        wordnet_pos = get_pos(i[1]) #or wordnet.NOUN\n",
    "        new_token.append(wnl.lemmatize(i[0],pos=wordnet_pos))\n",
    "    return new_token\n",
    "# lemmetize my bag of word"
   ]
  },
  {
   "cell_type": "code",
   "execution_count": 82,
   "metadata": {},
   "outputs": [],
   "source": [
    "song_df['tokens']= song_df['tokens'].map(lemma_token)"
   ]
  },
  {
   "cell_type": "code",
   "execution_count": 10,
   "metadata": {},
   "outputs": [
    {
     "data": {
      "text/plain": [
       "[Text(0, 0.5, 'Percent')]"
      ]
     },
     "execution_count": 10,
     "metadata": {},
     "output_type": "execute_result"
    },
    {
     "data": {
      "image/png": "[encoded data removed]",
      "text/plain": [
       "<Figure size 432x288 with 1 Axes>"
      ]
     },
     "metadata": {
      "needs_background": "light"
     },
     "output_type": "display_data"
    }
   ],
   "source": [
    "import seaborn as sns\n",
    "import matplotlib.pyplot as pltq\n",
    "ax = sns.barplot(x=\"rating\", y=\"rating\", data=q_df, estimator=lambda x: len(x) / len(q_df) * 100)\n",
    "ax.set(ylabel=\"Percent\")"
   ]
  },
  {
   "cell_type": "code",
   "execution_count": null,
   "metadata": {},
   "outputs": [],
   "source": [
    "# ## get the code for all songs in corpus\n",
    "# codes=q_df['song_id']\n",
    "# codes=codes.values.tolist()\n",
    "\n",
    "# ## using codes to get lyrics for songs to create corpus for ranking search\n",
    "# corpus=[song_df[song_df['code']==i].lyrics.to_string(index=False) for i in codes]"
   ]
  },
  {
   "cell_type": "markdown",
   "metadata": {},
   "source": [
    "### Build Models"
   ]
  },
  {
   "cell_type": "code",
   "execution_count": 184,
   "metadata": {},
   "outputs": [],
   "source": [
    "emotion=[]\n",
    "for i in labels:\n",
    "    if i=='0':\n",
    "        emotion.append('negative')\n",
    "    elif i=='1':\n",
    "        emotion.append('positive')\n",
    "    else:\n",
    "        emotion.append('neutral')"
   ]
  },
  {
   "cell_type": "code",
   "execution_count": 179,
   "metadata": {},
   "outputs": [],
   "source": [
    "# queries.sort()\n",
    "labels=['0','1','2','1','0','1','0','1','2','2','1','0','1','0','1','0','0','0','1','2']"
   ]
  },
  {
   "cell_type": "markdown",
   "metadata": {},
   "source": [
    "### BM25"
   ]
  },
  {
   "cell_type": "code",
   "execution_count": 87,
   "metadata": {},
   "outputs": [],
   "source": [
    "def get_ranked_songs(index,row,model):\n",
    "    song_copy=song_df.copy()\n",
    "    label=get_label(row['query'])\n",
    "    #filter out corresponding songs\n",
    "    if label=='0':\n",
    "        corpus_df=song_copy[song_copy['final_score']=='negative']\n",
    "    elif label=='1':\n",
    "        corpus_df=song_copy[song_copy['final_score']=='positive']\n",
    "    else:\n",
    "        corpus_df=song_copy[song_copy['final_score']=='neutral']\n",
    "    corpus=corpus_df['tokens'].values\n",
    "    bm25 = model(corpus)\n",
    "    doc_scores=bm25.get_scores(remove_stop(row['query'].split(\" \")))\n",
    "    corpus_df['rank_score']=doc_scores\n",
    "    filtered=q_df[q_df['query']==row['query']]\n",
    "    song_ids=filtered['song_id'].values\n",
    "    val_score=corpus_df[corpus_df['code'].isin(song_ids)]\n",
    "    if len(val_score['code'])<10:\n",
    "        corpus=song_copy['tokens'].values\n",
    "        bm25=model(corpus)\n",
    "        doc_scores=bm25.get_scores(remove_stop(row['query'].split(\" \")))\n",
    "        song_copy['rank_score']=doc_scores\n",
    "        val_score=song_copy[song_copy['code'].isin(song_ids)]\n",
    "    newdf=val_score.sort_values(by='rank_score',ascending=False)[0:10]\n",
    "    origin=[filtered[filtered['song_id']==i]['rating'].values[0] for i in newdf['code']]\n",
    "    relevance=np.array([i for i in origin])\n",
    "    return relevance\n",
    "        \n",
    "# for index, row in queries[1:11].iterrows():"
   ]
  },
  {
   "cell_type": "code",
   "execution_count": 86,
   "metadata": {},
   "outputs": [
    {
     "data": {
      "text/html": [
       "<div>\n",
       "<style scoped>\n",
       "    .dataframe tbody tr th:only-of-type {\n",
       "        vertical-align: middle;\n",
       "    }\n",
       "\n",
       "    .dataframe tbody tr th {\n",
       "        vertical-align: top;\n",
       "    }\n",
       "\n",
       "    .dataframe thead th {\n",
       "        text-align: right;\n",
       "    }\n",
       "</style>\n",
       "<table border=\"1\" class=\"dataframe\">\n",
       "  <thead>\n",
       "    <tr style=\"text-align: right;\">\n",
       "      <th></th>\n",
       "      <th>query</th>\n",
       "    </tr>\n",
       "    <tr>\n",
       "      <th>query_id</th>\n",
       "      <th></th>\n",
       "    </tr>\n",
       "  </thead>\n",
       "  <tbody>\n",
       "    <tr>\n",
       "      <th>25</th>\n",
       "      <td>You had no right to tell me you ever had feelings for me.</td>\n",
       "    </tr>\n",
       "    <tr>\n",
       "      <th>32</th>\n",
       "      <td>Oh, it's so romantic to send people off on their honeymoon.</td>\n",
       "    </tr>\n",
       "    <tr>\n",
       "      <th>66</th>\n",
       "      <td>This witness won't return my calls so we're gonna see if we can surprise him coming home.</td>\n",
       "    </tr>\n",
       "    <tr>\n",
       "      <th>91</th>\n",
       "      <td>Okay, okay, come on, you can do it. You can do it!</td>\n",
       "    </tr>\n",
       "    <tr>\n",
       "      <th>488</th>\n",
       "      <td>Fine! You go learn from your qualified instructor! But don't come crying to me when everyone's sick and tired of hearing you play</td>\n",
       "    </tr>\n",
       "    <tr>\n",
       "      <th>2235</th>\n",
       "      <td>Oh anyway, I just wanted to say how wonderful I think you are.</td>\n",
       "    </tr>\n",
       "    <tr>\n",
       "      <th>152</th>\n",
       "      <td>I mean, well, 'cause when I was growing up, you know my dad left, and my mother died, and my stepfather went to jail, so I barely had enough pieces of parents to make one whole one.</td>\n",
       "    </tr>\n",
       "    <tr>\n",
       "      <th>155</th>\n",
       "      <td>It's just, it's just the luckiest baby in the whole world.</td>\n",
       "    </tr>\n",
       "    <tr>\n",
       "      <th>157</th>\n",
       "      <td>Okay, it's a typical New York City apartment. Two girls are just hanging out.</td>\n",
       "    </tr>\n",
       "    <tr>\n",
       "      <th>160</th>\n",
       "      <td>It's my new perfume. Why don't you come closer where you can</td>\n",
       "    </tr>\n",
       "    <tr>\n",
       "      <th>176</th>\n",
       "      <td>Oh my God! I dont believe it! Oh, you poor bunny.</td>\n",
       "    </tr>\n",
       "    <tr>\n",
       "      <th>174</th>\n",
       "      <td>My marriage, I think my marriage is um, is kinda over.</td>\n",
       "    </tr>\n",
       "    <tr>\n",
       "      <th>272</th>\n",
       "      <td>Check it out, he's winning!  Peter is winning!</td>\n",
       "    </tr>\n",
       "    <tr>\n",
       "      <th>2544</th>\n",
       "      <td>Well, I-I got this blinding pain in my stomach when I was lifting weights before, then I uh passed out and uh, havent been able to stand up since.</td>\n",
       "    </tr>\n",
       "    <tr>\n",
       "      <th>412</th>\n",
       "      <td>With the, with the lilies, and-and the song, and the stars!</td>\n",
       "    </tr>\n",
       "    <tr>\n",
       "      <th>3509</th>\n",
       "      <td>You know you probably didn't know this, but back in high school, I had a, um, major crush on you.</td>\n",
       "    </tr>\n",
       "    <tr>\n",
       "      <th>7419</th>\n",
       "      <td>But only because I was up all night worried about this  meeting, ain’t that funny?</td>\n",
       "    </tr>\n",
       "    <tr>\n",
       "      <th>1303</th>\n",
       "      <td>Oh my God. Okay, go into the bathroom, use whatever you want, just don't ever tell me what you did in there.</td>\n",
       "    </tr>\n",
       "    <tr>\n",
       "      <th>659</th>\n",
       "      <td>Wait a minute, the house was built on radioactive waste, and an ancient Indian burial ground? That would never happen.</td>\n",
       "    </tr>\n",
       "    <tr>\n",
       "      <th>189</th>\n",
       "      <td>Look, when it started I was just trying to be nice to her because she was my brother's girlfriend.</td>\n",
       "    </tr>\n",
       "  </tbody>\n",
       "</table>\n",
       "</div>"
      ],
      "text/plain": [
       "                                                                                                                                                                                          query\n",
       "query_id                                                                                                                                                                                       \n",
       "25                                                                                                                                    You had no right to tell me you ever had feelings for me.\n",
       "32                                                                                                                                  Oh, it's so romantic to send people off on their honeymoon.\n",
       "66                                                                                                    This witness won't return my calls so we're gonna see if we can surprise him coming home.\n",
       "91                                                                                                                                           Okay, okay, come on, you can do it. You can do it!\n",
       "488                                                           Fine! You go learn from your qualified instructor! But don't come crying to me when everyone's sick and tired of hearing you play\n",
       "2235                                                                                                                             Oh anyway, I just wanted to say how wonderful I think you are.\n",
       "152       I mean, well, 'cause when I was growing up, you know my dad left, and my mother died, and my stepfather went to jail, so I barely had enough pieces of parents to make one whole one.\n",
       "155                                                                                                                                  It's just, it's just the luckiest baby in the whole world.\n",
       "157                                                                                                               Okay, it's a typical New York City apartment. Two girls are just hanging out.\n",
       "160                                                                                                                                It's my new perfume. Why don't you come closer where you can\n",
       "176                                                                                                                                          Oh my God! I dont believe it! Oh, you poor bunny.\n",
       "174                                                                                                                                      My marriage, I think my marriage is um, is kinda over.\n",
       "272                                                                                                                                              Check it out, he's winning!  Peter is winning!\n",
       "2544                                        Well, I-I got this blinding pain in my stomach when I was lifting weights before, then I uh passed out and uh, havent been able to stand up since.\n",
       "412                                                                                                                                 With the, with the lilies, and-and the song, and the stars!\n",
       "3509                                                                                          You know you probably didn't know this, but back in high school, I had a, um, major crush on you.\n",
       "7419                                                                                                         But only because I was up all night worried about this  meeting, ain’t that funny?\n",
       "1303                                                                               Oh my God. Okay, go into the bathroom, use whatever you want, just don't ever tell me what you did in there.\n",
       "659                                                                      Wait a minute, the house was built on radioactive waste, and an ancient Indian burial ground? That would never happen.\n",
       "189                                                                                          Look, when it started I was just trying to be nice to her because she was my brother's girlfriend."
      ]
     },
     "execution_count": 86,
     "metadata": {},
     "output_type": "execute_result"
    }
   ],
   "source": [
    "queries"
   ]
  },
  {
   "cell_type": "code",
   "execution_count": 88,
   "metadata": {},
   "outputs": [],
   "source": [
    "def get_result(model):\n",
    "    precision_list=[]\n",
    "    ndcg_10list=[]\n",
    "    for index,row in queries.iterrows():\n",
    "        relevance=get_ranked_songs(index,row,model)\n",
    "        precision=MAP(relevance)\n",
    "        precision_list.append(precision)\n",
    "        ndcg_10=NDCG(relevance)\n",
    "        ndcg_10list.append(ndcg_10)\n",
    "    base_precision=sum(precision_list)/len(precision_list)\n",
    "    base_ndcg=sum(ndcg_10list)/len(ndcg_10list)\n",
    "    return base_precision,base_ndcg,precision_list,ndcg_10list"
   ]
  },
  {
   "cell_type": "code",
   "execution_count": 89,
   "metadata": {},
   "outputs": [],
   "source": [
    "# BM25Okapi,BM25L, BM25Plus\n",
    "result_bm25=get_result(BM25Okapi)"
   ]
  },
  {
   "cell_type": "code",
   "execution_count": null,
   "metadata": {},
   "outputs": [],
   "source": [
    "result_bm25=get_result(BM25Plus)"
   ]
  },
  {
   "cell_type": "code",
   "execution_count": 126,
   "metadata": {},
   "outputs": [],
   "source": [
    "result_bm25plus=get_result(BM25Plus)"
   ]
  },
  {
   "cell_type": "code",
   "execution_count": 127,
   "metadata": {},
   "outputs": [],
   "source": [
    "result_bm25L=get_result(BM25L)"
   ]
  },
  {
   "cell_type": "code",
   "execution_count": 129,
   "metadata": {},
   "outputs": [
    {
     "data": {
      "text/plain": [
       "(0.08700892857142857,\n",
       " 0.7538818543210994,\n",
       " [0.0,\n",
       "  0.1,\n",
       "  0.0,\n",
       "  0.25,\n",
       "  0.16666666666666666,\n",
       "  0.05555555555555555,\n",
       "  0.1,\n",
       "  0.0,\n",
       "  0.0,\n",
       "  0.0,\n",
       "  0.0,\n",
       "  0.21666666666666667,\n",
       "  0.0,\n",
       "  0.0,\n",
       "  0.0,\n",
       "  0.4151785714285714,\n",
       "  0.05,\n",
       "  0.27777777777777773,\n",
       "  0.0,\n",
       "  0.10833333333333334],\n",
       " [0.7048679318447116,\n",
       "  0.8060795769816803,\n",
       "  0.9391106843560418,\n",
       "  0.799530078714085,\n",
       "  0.7011675403171992,\n",
       "  0.6162178492464959,\n",
       "  0.690936484482725,\n",
       "  0.9351819179193998,\n",
       "  0.7347294715455495,\n",
       "  0.6956002573582063,\n",
       "  0.7045290171522969,\n",
       "  0.6647376214174371,\n",
       "  0.7135051903624836,\n",
       "  0.7021184670174953,\n",
       "  0.7870920821159295,\n",
       "  0.8262090066284349,\n",
       "  0.4557734556680115,\n",
       "  0.8628023591355936,\n",
       "  0.9436960245689799,\n",
       "  0.7937520695892323])"
      ]
     },
     "execution_count": 129,
     "metadata": {},
     "output_type": "execute_result"
    }
   ],
   "source": [
    "result_bm25L"
   ]
  },
  {
   "cell_type": "code",
   "execution_count": 194,
   "metadata": {},
   "outputs": [
    {
     "data": {
      "image/png": "[encoded data removed]",
      "text/plain": [
       "<Figure size 432x288 with 1 Axes>"
      ]
     },
     "metadata": {
      "needs_background": "light"
     },
     "output_type": "display_data"
    }
   ],
   "source": [
    "import matplotlib.pyplot as plt\n",
    "# plt.plot(ndcg_10list,'g*', precision_list, 'ro')\n",
    "# plt.title('Distribution of NDCG and MAP')\n",
    "# plt.show()\n",
    "x_list=range(20)\n",
    "plt.plot(emotion, result_bm25L[3], '*', label='NDCG@10')\n",
    "plt.plot(emotion, result_bm25L[2], 'p',label='MAP')\n",
    "plt.legend()\n",
    "plt.title('Distribution of NDCG@10 and MAP for BM25L ')\n",
    "plt.show()"
   ]
  },
  {
   "cell_type": "code",
   "execution_count": 90,
   "metadata": {},
   "outputs": [
    {
     "data": {
      "text/plain": [
       "(0.12569444444444441,\n",
       " 0.772629711989685,\n",
       " [0.05555555555555555,\n",
       "  0.27777777777777773,\n",
       "  0.0,\n",
       "  0.25,\n",
       "  0.25,\n",
       "  0.1,\n",
       "  0.16666666666666666,\n",
       "  0.0,\n",
       "  0.0,\n",
       "  0.0,\n",
       "  0.0,\n",
       "  0.4666666666666666,\n",
       "  0.0,\n",
       "  0.0,\n",
       "  0.0,\n",
       "  0.3972222222222222,\n",
       "  0.08333333333333333,\n",
       "  0.4166666666666667,\n",
       "  0.0,\n",
       "  0.05],\n",
       " [0.5759259773759726,\n",
       "  0.8018606969133065,\n",
       "  0.9398250220951573,\n",
       "  0.799530078714085,\n",
       "  0.7606292140842655,\n",
       "  0.6439843031922822,\n",
       "  0.7706066822786808,\n",
       "  0.9351819179193998,\n",
       "  0.7084003640058083,\n",
       "  0.6956002573582063,\n",
       "  0.7469009578248269,\n",
       "  0.8841596693919536,\n",
       "  0.7135051903624836,\n",
       "  0.7272083696801035,\n",
       "  0.7870920821159295,\n",
       "  0.7662966573853661,\n",
       "  0.5452865075389465,\n",
       "  0.8931149306780273,\n",
       "  0.9436960245689799,\n",
       "  0.8137893363099161])"
      ]
     },
     "execution_count": 90,
     "metadata": {},
     "output_type": "execute_result"
    }
   ],
   "source": [
    "result_bm25"
   ]
  },
  {
   "cell_type": "code",
   "execution_count": 190,
   "metadata": {},
   "outputs": [
    {
     "data": {
      "image/png": "[encoded data removed]",
      "text/plain": [
       "<Figure size 432x288 with 1 Axes>"
      ]
     },
     "metadata": {
      "needs_background": "light"
     },
     "output_type": "display_data"
    }
   ],
   "source": [
    "import matplotlib.pyplot as plt\n",
    "# plt.plot(ndcg_10list,'g*', precision_list, 'ro')\n",
    "# plt.title('Distribution of NDCG and MAP')\n",
    "# plt.show()\n",
    "x_list=range(20)\n",
    "plt.plot(emotion, result_bm25[3],\"*\", label='NDCG@10')\n",
    "plt.plot(emotion, result_bm25[2], \"p\",label='MAP')\n",
    "plt.legend()\n",
    "plt.title('Distribution of NDCG@10 and MAP for BM25 ')\n",
    "plt.show()"
   ]
  },
  {
   "cell_type": "code",
   "execution_count": 128,
   "metadata": {},
   "outputs": [
    {
     "data": {
      "text/plain": [
       "(0.09605489417989417,\n",
       " 0.7471929562871317,\n",
       " [0.05,\n",
       "  0.1,\n",
       "  0.0,\n",
       "  0.25,\n",
       "  0.16666666666666666,\n",
       "  0.07142857142857142,\n",
       "  0.24074074074074073,\n",
       "  0.0,\n",
       "  0.0,\n",
       "  0.0,\n",
       "  0.0,\n",
       "  0.21666666666666667,\n",
       "  0.0,\n",
       "  0.08333333333333333,\n",
       "  0.0,\n",
       "  0.2625,\n",
       "  0.07142857142857142,\n",
       "  0.3,\n",
       "  0.0,\n",
       "  0.10833333333333334],\n",
       " [0.7091152986764625,\n",
       "  0.7647015291252911,\n",
       "  0.9391106843560418,\n",
       "  0.799530078714085,\n",
       "  0.7011675403171992,\n",
       "  0.6002788988430229,\n",
       "  0.7752320967541989,\n",
       "  0.9351819179193998,\n",
       "  0.7347294715455495,\n",
       "  0.6956002573582063,\n",
       "  0.7045290171522969,\n",
       "  0.6647376214174371,\n",
       "  0.7135051903624836,\n",
       "  0.6247570989525042,\n",
       "  0.7870920821159295,\n",
       "  0.6915758682492954,\n",
       "  0.49409837199328777,\n",
       "  0.8714680077317326,\n",
       "  0.9436960245689799,\n",
       "  0.7937520695892323])"
      ]
     },
     "execution_count": 128,
     "metadata": {},
     "output_type": "execute_result"
    }
   ],
   "source": [
    "result_bm25plus"
   ]
  },
  {
   "cell_type": "code",
   "execution_count": 193,
   "metadata": {},
   "outputs": [
    {
     "data": {
      "image/png": "[encoded data removed]",
      "text/plain": [
       "<Figure size 432x288 with 1 Axes>"
      ]
     },
     "metadata": {
      "needs_background": "light"
     },
     "output_type": "display_data"
    }
   ],
   "source": [
    "import matplotlib.pyplot as plt\n",
    "# plt.plot(ndcg_10list,'g*', precision_list, 'ro')\n",
    "# plt.title('Distribution of NDCG and MAP')\n",
    "# plt.show()\n",
    "x_list=range(20)\n",
    "plt.plot(emotion, result_bm25plus[3],\"*\", label='NDCG@10')\n",
    "plt.plot(emotion, result_bm25plus[2], \"p\",label='MAP')\n",
    "plt.legend()\n",
    "plt.title('Distribution of NDCG@10 and MAP for BM25Plus ')\n",
    "plt.show()"
   ]
  },
  {
   "cell_type": "markdown",
   "metadata": {},
   "source": [
    "### USE LSI MODEL"
   ]
  },
  {
   "cell_type": "code",
   "execution_count": 130,
   "metadata": {},
   "outputs": [],
   "source": [
    "import gensim\n",
    "from collections import defaultdict\n",
    "from gensim import corpora\n",
    "from gensim import models\n",
    "from gensim import similarities"
   ]
  },
  {
   "cell_type": "code",
   "execution_count": null,
   "metadata": {},
   "outputs": [],
   "source": [
    "song_df.head()"
   ]
  },
  {
   "cell_type": "markdown",
   "metadata": {},
   "source": [
    "#### Get Corpus for All Documents"
   ]
  },
  {
   "cell_type": "code",
   "execution_count": 158,
   "metadata": {},
   "outputs": [],
   "source": [
    "def get_ranked_songl_isi(index,row):\n",
    "    song_copy=song_df.copy()\n",
    "    label=get_label(row['query'])\n",
    "    #filter out corresponding songs\n",
    "    if label=='0':\n",
    "        corpus_df=song_copy[song_copy['final_score']=='negative'].reset_index(drop=True)\n",
    "    elif label=='1':\n",
    "        corpus_df=song_copy[song_copy['final_score']=='positive'].reset_index(drop=True)\n",
    "    else:\n",
    "        corpus_df=song_copy[song_copy['final_score']=='neutral'].reset_index(drop=True)\n",
    "    corpus=corpus_df['tokens'].values\n",
    "    doc_scores = get_corpus(corpus,row['query'])\n",
    "    corpus_df['rank_score']=doc_scores\n",
    "    filtered=q_df[q_df['query']==row['query']]\n",
    "    song_ids=filtered['song_id'].values\n",
    "    val_score=corpus_df[corpus_df['code'].isin(song_ids)]\n",
    "    if len(val_score['code'])<10:\n",
    "        corpus=song_copy['tokens'].values\n",
    "        doc_scores=get_corpus(corpus,row['query'])\n",
    "        song_copy['rank_score']=doc_scores\n",
    "        val_score=song_copy[song_copy['code'].isin(song_ids)]\n",
    "    newdf=val_score.sort_values(by='rank_score',ascending=False)[0:10]\n",
    "    origin=[filtered[filtered['song_id']==i]['rating'].values[0] for i in newdf['code']]\n",
    "    relevance=np.array([i for i in origin])\n",
    "    return relevance"
   ]
  },
  {
   "cell_type": "code",
   "execution_count": 155,
   "metadata": {},
   "outputs": [],
   "source": [
    "def get_corpus(test_response,query):\n",
    "#     texts_doc = [\n",
    "#       [word for word in document.lower().split() if word not in stoplist]\n",
    "#       for document in test_response]\n",
    "\n",
    "# remove words that appear only once\n",
    "    frequency_test = defaultdict(int)\n",
    "    for text in test_response:\n",
    "        for token in text:\n",
    "            frequency_test[token] += 1\n",
    "\n",
    "    texts_doc = [\n",
    "        [token for token in text if frequency_test[token] > 1]\n",
    "        for text in test_response\n",
    "        ]\n",
    "    dictionary = corpora.Dictionary(texts_doc)\n",
    "    corpus = [dictionary.doc2bow(text) for text in texts_doc]\n",
    "    lsi_new = models.LsiModel(corpus, id2word=dictionary, num_topics=3)\n",
    "    index = similarities.MatrixSimilarity(lsi_new[corpus])  \n",
    "    vec_bow = dictionary.doc2bow(query.lower().split())\n",
    "    vec_lsi = lsi_new[vec_bow]  # convert the query to LSI space\n",
    "    sims_1 = index[vec_lsi] \n",
    "#     newsim = sorted(enumerate(sims_1), key=lambda item: -item[1])\n",
    "   \n",
    "    return sims_1 # get  "
   ]
  },
  {
   "cell_type": "code",
   "execution_count": 156,
   "metadata": {},
   "outputs": [],
   "source": [
    "def get_result():\n",
    "    precision_list=[]\n",
    "    ndcg_10list=[]\n",
    "    for index,row in queries.iterrows():\n",
    "        relevance=get_ranked_songl_isi(index,row)\n",
    "        precision=MAP(relevance)\n",
    "        precision_list.append(precision)\n",
    "        ndcg_10=NDCG(relevance)\n",
    "        ndcg_10list.append(ndcg_10)\n",
    "    base_precision=sum(precision_list)/len(precision_list)\n",
    "    base_ndcg=sum(ndcg_10list)/len(ndcg_10list)\n",
    "    return base_precision,base_ndcg,precision_list,ndcg_10list"
   ]
  },
  {
   "cell_type": "code",
   "execution_count": 159,
   "metadata": {},
   "outputs": [],
   "source": [
    "lsi_result=get_result()"
   ]
  },
  {
   "cell_type": "code",
   "execution_count": 161,
   "metadata": {},
   "outputs": [
    {
     "data": {
      "text/plain": [
       "(0.16092261904761904,\n",
       " 0.7897458315949801,\n",
       " [0.05555555555555555,\n",
       "  0.1037037037037037,\n",
       "  0.5,\n",
       "  0.05,\n",
       "  0.08333333333333333,\n",
       "  0.0,\n",
       "  0.07142857142857142,\n",
       "  0.0,\n",
       "  0.0,\n",
       "  0.0,\n",
       "  0.16666666666666666,\n",
       "  0.47916666666666663,\n",
       "  0.17857142857142858,\n",
       "  0.40740740740740744,\n",
       "  0.25,\n",
       "  0.4333333333333333,\n",
       "  0.2,\n",
       "  0.125,\n",
       "  0.0,\n",
       "  0.11428571428571428],\n",
       " [0.6561755035990593,\n",
       "  0.6969838825920315,\n",
       "  0.951303312496272,\n",
       "  0.7391306734762227,\n",
       "  0.8135546195337107,\n",
       "  0.7881352684037626,\n",
       "  0.7669038376588355,\n",
       "  0.7798876409084297,\n",
       "  0.8771594779255228,\n",
       "  0.8460472675200911,\n",
       "  0.7489304453584646,\n",
       "  0.885515206635435,\n",
       "  0.7511115956707334,\n",
       "  0.852614893500929,\n",
       "  0.7835688903117697,\n",
       "  0.8213308203309805,\n",
       "  0.6529406977538806,\n",
       "  0.8287238379123186,\n",
       "  0.8432490920481652,\n",
       "  0.7116496682629879])"
      ]
     },
     "execution_count": 161,
     "metadata": {},
     "output_type": "execute_result"
    }
   ],
   "source": [
    "lsi_result"
   ]
  },
  {
   "cell_type": "code",
   "execution_count": 185,
   "metadata": {},
   "outputs": [
    {
     "data": {
      "image/png": "[encoded data removed]",
      "text/plain": [
       "<Figure size 432x288 with 1 Axes>"
      ]
     },
     "metadata": {
      "needs_background": "light"
     },
     "output_type": "display_data"
    }
   ],
   "source": [
    "import matplotlib.pyplot as plt\n",
    "# plt.plot(ndcg_10list,'g*', precision_list, 'ro')\n",
    "# plt.title('Distribution of NDCG and MAP')\n",
    "# plt.show()\n",
    "x_list=range(20)\n",
    "plt.plot(emotion, lsi_result[3],\"*\", label='NDCG@10')\n",
    "plt.plot(emotion, lsi_result[2], \"p\",label='MAP')\n",
    "plt.legend()\n",
    "plt.title('Distribution of NDCG@10 and MAP for LSI ')\n",
    "plt.show()"
   ]
  },
  {
   "cell_type": "code",
   "execution_count": 186,
   "metadata": {},
   "outputs": [],
   "source": [
    "df=pd.DataFrame()"
   ]
  },
  {
   "cell_type": "code",
   "execution_count": 187,
   "metadata": {},
   "outputs": [],
   "source": [
    "df['label']=emotion\n",
    "df['ndcg']=lsi_result[3]\n",
    "df['map']=lsi_result[2]"
   ]
  },
  {
   "cell_type": "code",
   "execution_count": 188,
   "metadata": {},
   "outputs": [
    {
     "data": {
      "image/png": "[encoded data removed]",
      "text/plain": [
       "<Figure size 432x288 with 1 Axes>"
      ]
     },
     "metadata": {
      "needs_background": "light"
     },
     "output_type": "display_data"
    }
   ],
   "source": [
    "import matplotlib.pyplot as plt\n",
    "import pandas as pd\n",
    "\n",
    "# a scatter plot comparing num_children and num_pets\n",
    "df.plot(kind='scatter',x='label',y='ndcg',color='red')\n",
    "df.plot(kind='scatter',x='label',y='ndcg',color='red')\n",
    "plt.show()"
   ]
  },
  {
   "cell_type": "code",
   "execution_count": 169,
   "metadata": {},
   "outputs": [
    {
     "data": {
      "text/plain": [
       "22"
      ]
     },
     "execution_count": 169,
     "metadata": {},
     "output_type": "execute_result"
    }
   ],
   "source": [
    "len(labels)"
   ]
  },
  {
   "cell_type": "code",
   "execution_count": 171,
   "metadata": {},
   "outputs": [
    {
     "data": {
      "text/html": [
       "<div>\n",
       "<style scoped>\n",
       "    .dataframe tbody tr th:only-of-type {\n",
       "        vertical-align: middle;\n",
       "    }\n",
       "\n",
       "    .dataframe tbody tr th {\n",
       "        vertical-align: top;\n",
       "    }\n",
       "\n",
       "    .dataframe thead th {\n",
       "        text-align: right;\n",
       "    }\n",
       "</style>\n",
       "<table border=\"1\" class=\"dataframe\">\n",
       "  <thead>\n",
       "    <tr style=\"text-align: right;\">\n",
       "      <th></th>\n",
       "      <th>query</th>\n",
       "    </tr>\n",
       "    <tr>\n",
       "      <th>query_id</th>\n",
       "      <th></th>\n",
       "    </tr>\n",
       "  </thead>\n",
       "  <tbody>\n",
       "    <tr>\n",
       "      <th>25</th>\n",
       "      <td>You had no right to tell me you ever had feelings for me.</td>\n",
       "    </tr>\n",
       "    <tr>\n",
       "      <th>32</th>\n",
       "      <td>Oh, it's so romantic to send people off on their honeymoon.</td>\n",
       "    </tr>\n",
       "    <tr>\n",
       "      <th>66</th>\n",
       "      <td>This witness won't return my calls so we're gonna see if we can surprise him coming home.</td>\n",
       "    </tr>\n",
       "    <tr>\n",
       "      <th>91</th>\n",
       "      <td>Okay, okay, come on, you can do it. You can do it!</td>\n",
       "    </tr>\n",
       "    <tr>\n",
       "      <th>488</th>\n",
       "      <td>Fine! You go learn from your qualified instructor! But don't come crying to me when everyone's sick and tired of hearing you play</td>\n",
       "    </tr>\n",
       "    <tr>\n",
       "      <th>2235</th>\n",
       "      <td>Oh anyway, I just wanted to say how wonderful I think you are.</td>\n",
       "    </tr>\n",
       "    <tr>\n",
       "      <th>152</th>\n",
       "      <td>I mean, well, 'cause when I was growing up, you know my dad left, and my mother died, and my stepfather went to jail, so I barely had enough pieces of parents to make one whole one.</td>\n",
       "    </tr>\n",
       "    <tr>\n",
       "      <th>155</th>\n",
       "      <td>It's just, it's just the luckiest baby in the whole world.</td>\n",
       "    </tr>\n",
       "    <tr>\n",
       "      <th>157</th>\n",
       "      <td>Okay, it's a typical New York City apartment. Two girls are just hanging out.</td>\n",
       "    </tr>\n",
       "    <tr>\n",
       "      <th>160</th>\n",
       "      <td>It's my new perfume. Why don't you come closer where you can</td>\n",
       "    </tr>\n",
       "    <tr>\n",
       "      <th>176</th>\n",
       "      <td>Oh my God! I dont believe it! Oh, you poor bunny.</td>\n",
       "    </tr>\n",
       "    <tr>\n",
       "      <th>174</th>\n",
       "      <td>My marriage, I think my marriage is um, is kinda over.</td>\n",
       "    </tr>\n",
       "    <tr>\n",
       "      <th>272</th>\n",
       "      <td>Check it out, he's winning!  Peter is winning!</td>\n",
       "    </tr>\n",
       "    <tr>\n",
       "      <th>2544</th>\n",
       "      <td>Well, I-I got this blinding pain in my stomach when I was lifting weights before, then I uh passed out and uh, havent been able to stand up since.</td>\n",
       "    </tr>\n",
       "    <tr>\n",
       "      <th>412</th>\n",
       "      <td>With the, with the lilies, and-and the song, and the stars!</td>\n",
       "    </tr>\n",
       "    <tr>\n",
       "      <th>3509</th>\n",
       "      <td>You know you probably didn't know this, but back in high school, I had a, um, major crush on you.</td>\n",
       "    </tr>\n",
       "    <tr>\n",
       "      <th>7419</th>\n",
       "      <td>But only because I was up all night worried about this  meeting, ain’t that funny?</td>\n",
       "    </tr>\n",
       "    <tr>\n",
       "      <th>1303</th>\n",
       "      <td>Oh my God. Okay, go into the bathroom, use whatever you want, just don't ever tell me what you did in there.</td>\n",
       "    </tr>\n",
       "    <tr>\n",
       "      <th>659</th>\n",
       "      <td>Wait a minute, the house was built on radioactive waste, and an ancient Indian burial ground? That would never happen.</td>\n",
       "    </tr>\n",
       "    <tr>\n",
       "      <th>189</th>\n",
       "      <td>Look, when it started I was just trying to be nice to her because she was my brother's girlfriend.</td>\n",
       "    </tr>\n",
       "  </tbody>\n",
       "</table>\n",
       "</div>"
      ],
      "text/plain": [
       "                                                                                                                                                                                          query\n",
       "query_id                                                                                                                                                                                       \n",
       "25                                                                                                                                    You had no right to tell me you ever had feelings for me.\n",
       "32                                                                                                                                  Oh, it's so romantic to send people off on their honeymoon.\n",
       "66                                                                                                    This witness won't return my calls so we're gonna see if we can surprise him coming home.\n",
       "91                                                                                                                                           Okay, okay, come on, you can do it. You can do it!\n",
       "488                                                           Fine! You go learn from your qualified instructor! But don't come crying to me when everyone's sick and tired of hearing you play\n",
       "2235                                                                                                                             Oh anyway, I just wanted to say how wonderful I think you are.\n",
       "152       I mean, well, 'cause when I was growing up, you know my dad left, and my mother died, and my stepfather went to jail, so I barely had enough pieces of parents to make one whole one.\n",
       "155                                                                                                                                  It's just, it's just the luckiest baby in the whole world.\n",
       "157                                                                                                               Okay, it's a typical New York City apartment. Two girls are just hanging out.\n",
       "160                                                                                                                                It's my new perfume. Why don't you come closer where you can\n",
       "176                                                                                                                                          Oh my God! I dont believe it! Oh, you poor bunny.\n",
       "174                                                                                                                                      My marriage, I think my marriage is um, is kinda over.\n",
       "272                                                                                                                                              Check it out, he's winning!  Peter is winning!\n",
       "2544                                        Well, I-I got this blinding pain in my stomach when I was lifting weights before, then I uh passed out and uh, havent been able to stand up since.\n",
       "412                                                                                                                                 With the, with the lilies, and-and the song, and the stars!\n",
       "3509                                                                                          You know you probably didn't know this, but back in high school, I had a, um, major crush on you.\n",
       "7419                                                                                                         But only because I was up all night worried about this  meeting, ain’t that funny?\n",
       "1303                                                                               Oh my God. Okay, go into the bathroom, use whatever you want, just don't ever tell me what you did in there.\n",
       "659                                                                      Wait a minute, the house was built on radioactive waste, and an ancient Indian burial ground? That would never happen.\n",
       "189                                                                                          Look, when it started I was just trying to be nice to her because she was my brother's girlfriend."
      ]
     },
     "execution_count": 171,
     "metadata": {},
     "output_type": "execute_result"
    }
   ],
   "source": [
    "queries"
   ]
  },
  {
   "cell_type": "code",
   "execution_count": 200,
   "metadata": {},
   "outputs": [],
   "source": [
    "def get_song_lsi(query):\n",
    "    song_copy=song_df.copy()\n",
    "    label=get_label(query)\n",
    "    #filter out corresponding songs\n",
    "    if label=='0':\n",
    "        corpus_df=song_copy[song_copy['final_score']=='negative'].reset_index(drop=True)\n",
    "    elif label=='1':\n",
    "        corpus_df=song_copy[song_copy['final_score']=='positive'].reset_index(drop=True)\n",
    "    else:\n",
    "        corpus_df=song_copy[song_copy['final_score']=='neutral'].reset_index(drop=True)\n",
    "    corpus=corpus_df['tokens'].values\n",
    "    doc_scores = get_corpus(corpus,row['query'])\n",
    "    corpus_df['rank_score']=doc_scores\n",
    "    song_info=corpus_df.sort_values(by='rank_score',ascending=False)[0:10]\n",
    "    return song_info"
   ]
  },
  {
   "cell_type": "code",
   "execution_count": 201,
   "metadata": {},
   "outputs": [],
   "source": [
    "def print_songs(query):\n",
    "    query=input('')\n",
    "    song_info=get_song_lsi(query)\n",
    "    for index, row in song_info.iterrows():\n",
    "        print(row['song'],row['singer'])"
   ]
  },
  {
   "cell_type": "code",
   "execution_count": 197,
   "metadata": {},
   "outputs": [],
   "source": [
    "# song_df.head()"
   ]
  },
  {
   "cell_type": "code",
   "execution_count": 203,
   "metadata": {},
   "outputs": [
    {
     "name": "stdout",
     "output_type": "stream",
     "text": [
      "I like today's weather\n",
      "Show You How The Killers\n",
      "Red Clay Freddie Hubbard\n",
      "Just One Look Doris Troy\n",
      "Mr. Brightside (Jacques Lu Cont's Thin White Duke Mix) The Killers\n",
      "Free VAST\n",
      "At Night Shakedown\n",
      "Can I? Yes\n",
      "Newtown The Slits\n",
      "All I Wanna Do Iz Listen To Yuz Graham Coxon\n",
      "Heartbeat Tahiti 80\n"
     ]
    }
   ],
   "source": [
    "print_songs(query)"
   ]
  }
 ],
 "metadata": {
  "kernelspec": {
   "display_name": "Python 3",
   "language": "python",
   "name": "python3"
  },
  "language_info": {
   "codemirror_mode": {
    "name": "ipython",
    "version": 3
   },
   "file_extension": ".py",
   "mimetype": "text/x-python",
   "name": "python",
   "nbconvert_exporter": "python",
   "pygments_lexer": "ipython3",
   "version": "3.8.3"
  }
 },
 "nbformat": 4,
 "nbformat_minor": 4
}
