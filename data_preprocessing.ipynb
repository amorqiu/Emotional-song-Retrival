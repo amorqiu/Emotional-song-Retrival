{
 "cells": [
  {
   "cell_type": "code",
   "execution_count": 1,
   "metadata": {},
   "outputs": [],
   "source": [
    "import numpy as np\n",
    "import pandas as pd\n",
    "from datetime import datetime\n",
    "# data visualization\n",
    "import seaborn as sns\n",
    "import matplotlib.pyplot as plt\n",
    "sns.set(style=\"white\", color_codes=True)\n",
    "# ignore warnings\n",
    "import warnings\n",
    "warnings.filterwarnings(\"ignore\")\n",
    "# display all columns and rows\n",
    "pd.set_option('display.max_columns', None)\n",
    "pd.set_option('display.max_rows', None)"
   ]
  },
  {
   "cell_type": "code",
   "execution_count": 2,
   "metadata": {},
   "outputs": [],
   "source": [
    "# import dataset\n",
    "df = pd.read_csv('data_repository.csv')\n",
    "scan_detail = pd.read_csv('scan_detail.csv')"
   ]
  },
  {
   "cell_type": "markdown",
   "metadata": {},
   "source": [
    "## Exclude international orders"
   ]
  },
  {
   "cell_type": "code",
   "execution_count": 3,
   "metadata": {},
   "outputs": [],
   "source": [
    "## exclude international order, only consider packages within the U.S.A\n",
    "international=['UPS Worldwide Express','UPS Worldwide Saver','UPS Worldwide Express Saver','UPS Worldwide Expedited',\n",
    "             'FedEx International Economy Freight','International Priority','FedEx International Ground',\n",
    "            'FedEx International Economy','FedEx International First']\n",
    "# international list 1\n",
    "list1=['GUADALAJARA', 'DUBAI','TLAJOMULCO DE ZUNIGA', 'BOTANY', 'GLOSTRUP', 'COFFS HARBOUR','ENFIELD', 'ST. THOMAS', \n",
    "       'TSUEN WAN', 'STOCKHOLM-ARLANDA']\n",
    "# list 2 to fill city and state\n",
    "list2=['ERIE DISTRIBUTION CENTER','ALTOONA DISTRIBUTION CENTER','ATLANTA NORTH METRO DISTRIBUTION CENTER',\n",
    "       'PORTLAND DISTRIBUTION CENTER ANNEX','DENVER CO  DISTRIBUTION CENTER','WEST FARGO NETWORK DISTRIBUTION CENTER']"
   ]
  },
  {
   "cell_type": "code",
   "execution_count": 4,
   "metadata": {},
   "outputs": [],
   "source": [
    "# exclude international order,none travel time\n",
    "df=df[~df.type_of_service.isin(international)]\n",
    "df=df[~df['destination_state'].isna()]\n",
    "df=df[~df['origin_city'].isin(list1)]\n",
    "# exclude travel time is na\n",
    "df=df[df['travel_time']!='0 days 00:00:00.000000000']\n",
    "df=df[~df['travel_time'].isna()]\n",
    "# origin city is NA, destination state is NA\n",
    "df=df[df['origin_city']!='NONE N']\n",
    "df=df[df['destination_state']!='None']\n",
    "df=df[df['origin_state']!='None']"
   ]
  },
  {
   "cell_type": "code",
   "execution_count": 5,
   "metadata": {},
   "outputs": [],
   "source": [
    "# function to fill state and city\n",
    "def state(x):\n",
    "    if (len(x.split(' '))>3) and (x not in list2):\n",
    "        if x.split(' ')[-3]=='NETWORK' or x.split(' ')[-3]=='INTERNATIONAL' or x.split(' ')[-1]=='ANNEX':\n",
    "            return x.split(' ')[-4]\n",
    "        elif 'PROCESSING CENTER' or 'DISTRIBUTION CENTER' in x:\n",
    "            return x.split(' ')[-3]\n",
    "    elif x == 'ERIE DISTRIBUTION CENTER' or x == 'ALTOONA DISTRIBUTION CENTER':\n",
    "        return 'PA'\n",
    "    elif x == 'ATLANTA NORTH METRO DISTRIBUTION CENTER':\n",
    "        return 'GA'\n",
    "    elif x== 'PORTLAND DISTRIBUTION CENTER ANNEX':\n",
    "        return 'OR'\n",
    "    elif x== 'DENVER CO  DISTRIBUTION CENTER':\n",
    "        return 'CO'\n",
    "    elif x== 'WEST FARGO NETWORK DISTRIBUTION CENTER':\n",
    "        return 'ND'\n",
    "\n",
    "def city(x):\n",
    "    if (len(x.split(' '))>3) and (x not in list2):\n",
    "        if x.split(' ')[-3]=='NETWORK' or x.split(' ')[-3]=='INTERNATIONAL' or x.split(' ')[-1]=='ANNEX':\n",
    "            return ' '.join(x.split(' ')[0:-4])\n",
    "        elif 'PROCESSING CENTER' or 'DISTRIBUTION CENTER' in x:\n",
    "            return' '.join(x.split(' ')[0:-3])\n",
    "    elif x== 'WEST FARGO NETWORK DISTRIBUTION CENTER':\n",
    "        return 'WEST FARGO'\n",
    "    elif x== 'DENVER CO  DISTRIBUTION CENTER':\n",
    "        return 'DENVER'\n",
    "    elif x in list2 and x !='WEST FARGO NETWORK DISTRIBUTION CENTER':\n",
    "        return x.split(' ')[0]\n",
    "    else:\n",
    "        return x"
   ]
  },
  {
   "cell_type": "code",
   "execution_count": 6,
   "metadata": {},
   "outputs": [],
   "source": [
    "df['origin_state']=df['origin_state'].fillna(df['origin_city'].apply(lambda x: state(x)))\n",
    "df['origin_city'] = df['origin_city'].apply(lambda x: city(x))"
   ]
  },
  {
   "cell_type": "code",
   "execution_count": 7,
   "metadata": {},
   "outputs": [],
   "source": [
    "# export index csv and processed_data_repository.csv\n",
    "tracking_id=df['tracking_ID']\n",
    "tracking_id.to_csv('index.csv')\n",
    "df.to_csv('processed_data_repository.csv')"
   ]
  },
  {
   "cell_type": "markdown",
   "metadata": {},
   "source": [
    "## USPS Data Pre-Processing"
   ]
  },
  {
   "cell_type": "code",
   "execution_count": 8,
   "metadata": {},
   "outputs": [],
   "source": [
    "# import index csv\n",
    "index=pd.read_csv('index.csv',header=None)\n",
    "index=index[1].tolist()\n",
    "USPS = scan_detail[scan_detail['source']=='USPS']"
   ]
  },
  {
   "cell_type": "code",
   "execution_count": 9,
   "metadata": {},
   "outputs": [],
   "source": [
    "# use index to filter international orders and Non-travel time records\n",
    "USPS=USPS[USPS['tracking_ID'].isin(index)]\n",
    "USPS=USPS.iloc[::-1].reset_index().drop(['index','Unnamed: 0'],axis=1)"
   ]
  },
  {
   "cell_type": "markdown",
   "metadata": {},
   "source": [
    "### Deal with missing value"
   ]
  },
  {
   "cell_type": "code",
   "execution_count": 10,
   "metadata": {},
   "outputs": [],
   "source": [
    "# fill missing value in datetime column\n",
    "USPS['datetime'] = USPS['datetime'].fillna('January 1, 1999 01:00 am')\n",
    "# change missing value to the close time\n",
    "for i in range(len(USPS['datetime'])):\n",
    "    if USPS['datetime'].iloc[i] == '1999-01-01 01:00:00': \n",
    "        USPS['datetime'].iloc[i] = USPS['datetime'].iloc[i-1] \n",
    "# generate Datetime column and sort the dataframe by time\n",
    "USPS['DateTime'] = USPS['datetime'].apply(lambda x: datetime.strptime(x, \"%B %d, %Y %I:%M %p\"))\n",
    "USPS['DateTime']=pd.to_datetime(USPS['DateTime'])\n",
    "# sort dataframe by datetime\n",
    "USPS=USPS.sort_values(['tracking_ID', 'DateTime'])"
   ]
  },
  {
   "cell_type": "code",
   "execution_count": 11,
   "metadata": {},
   "outputs": [],
   "source": [
    "# fill missing value for city and generate am/pm and day_of_week columns\n",
    "USPS['am/pm']=USPS['datetime'].str[-2:]\n",
    "USPS['day_of_week']=USPS['DateTime'].apply(lambda x:x.isoweekday())\n",
    "USPS['city'] = USPS['city'].fillna('unknown')\n",
    "for i in range(len(USPS['city'])):\n",
    "    if USPS['city'].iloc[i] == 'unknown': \n",
    "        USPS['city'].iloc[i] = USPS['city'].iloc[i-1]"
   ]
  },
  {
   "cell_type": "code",
   "execution_count": 12,
   "metadata": {},
   "outputs": [],
   "source": [
    "# fill missing value in state and regulate state\n",
    "USPS['state']=USPS['state'].fillna(USPS['city'].apply(lambda x: state(x)))\n",
    "USPS['city'] = USPS['city'].apply(lambda x: city(x))"
   ]
  },
  {
   "cell_type": "code",
   "execution_count": 13,
   "metadata": {},
   "outputs": [],
   "source": [
    "# fill other missing value in state\n",
    "USPS['state'] = USPS['state'].fillna('unknown')\n",
    "for i in range(len(USPS['state'])):\n",
    "    if USPS['state'].iloc[i] == 'unknown':\n",
    "        USPS['state'].iloc[i] = USPS['state'].iloc[i-1]"
   ]
  },
  {
   "cell_type": "code",
   "execution_count": 14,
   "metadata": {},
   "outputs": [],
   "source": [
    "# drop columns\n",
    "USPS = USPS.drop(['message','status','status_detail','country','zip'],axis=1)"
   ]
  },
  {
   "cell_type": "code",
   "execution_count": 15,
   "metadata": {},
   "outputs": [
    {
     "data": {
      "text/plain": [
       "tracking_ID    0\n",
       "datetime       0\n",
       "status_code    0\n",
       "description    0\n",
       "source         0\n",
       "city           0\n",
       "state          0\n",
       "DateTime       0\n",
       "am/pm          0\n",
       "day_of_week    0\n",
       "dtype: int64"
      ]
     },
     "execution_count": 15,
     "metadata": {},
     "output_type": "execute_result"
    }
   ],
   "source": [
    "# sanity check\n",
    "USPS.isna().sum()"
   ]
  },
  {
   "cell_type": "markdown",
   "metadata": {},
   "source": [
    "### Regulate status code"
   ]
  },
  {
   "cell_type": "code",
   "execution_count": 16,
   "metadata": {},
   "outputs": [],
   "source": [
    "# delete unneeded status code\n",
    "keep_status=['03','OF', '07', '10', 'A1', 'T1', 'OA',  'EF', 'SF', 'U1', \n",
    "             'L1', 'RB','15',  '08',  'UA',  'AH', 'AP','BB']\n",
    "USPS=USPS[USPS.status_code.isin(keep_status)]\n",
    "# regulate status code\n",
    "USPS['status_code_cal'] = USPS['status_code']\n",
    "USPS['status_code_cal'] = USPS['status_code_cal'].replace('07', 'ARR')\n",
    "USPS['status_code_cal'] = USPS['status_code_cal'].replace('A1', 'ARR')\n",
    "USPS['status_code_cal'] = USPS['status_code_cal'].replace('OA', 'ARR')\n",
    "USPS['status_code_cal'] = USPS['status_code_cal'].replace('U1', 'ARR')\n",
    "USPS['status_code_cal'] = USPS['status_code_cal'].replace('03', 'ARR')\n",
    "USPS['status_code_cal'] = USPS['status_code_cal'].replace('UA', 'ARR')\n",
    "USPS['status_code_cal'] = USPS['status_code_cal'].replace('AP', 'ARR')\n",
    "USPS['status_code_cal'] = USPS['status_code_cal'].replace('BB', 'ARR')\n",
    "USPS['status_code_cal'] = USPS['status_code_cal'].replace('OF', 'DEP')\n",
    "USPS['status_code_cal'] = USPS['status_code_cal'].replace('T1', 'DEP')\n",
    "USPS['status_code_cal'] = USPS['status_code_cal'].replace('EF', 'DEP')\n",
    "USPS['status_code_cal'] = USPS['status_code_cal'].replace('SF', 'DEP')\n",
    "USPS['status_code_cal'] = USPS['status_code_cal'].replace('L1', 'DEP')\n",
    "USPS['status_code_cal'] = USPS['status_code_cal'].replace('AH', 'DEP')"
   ]
  },
  {
   "cell_type": "code",
   "execution_count": 17,
   "metadata": {},
   "outputs": [],
   "source": [
    "USPS.loc[USPS['status_code_cal'].isin(['10','RB','08','15']),'status_code_cal']=None\n",
    "# function to change status for specific code\n",
    "def status(x):\n",
    "    if (x.split(' ')[0]=='Departed') or (x.split(' ')[0]=='Dispatched'):\n",
    "        return 'DEP'\n",
    "    elif x.split(' ')[0]=='Arrived':\n",
    "        return 'ARR'\n",
    "USPS['status_code_cal']=USPS['status_code_cal'].fillna(USPS['description'].apply(lambda x: status(x)))"
   ]
  },
  {
   "cell_type": "markdown",
   "metadata": {},
   "source": [
    "### Calculate time difference"
   ]
  },
  {
   "cell_type": "code",
   "execution_count": 18,
   "metadata": {},
   "outputs": [],
   "source": [
    "def calculate_time(test):\n",
    "    last_index=test.iloc[-1:].index[0]\n",
    "    df=pd.DataFrame()\n",
    "    for index,row in test.iterrows():\n",
    "        if index!=last_index:\n",
    "            if row['status_code_cal']=='ARR' and test.loc[index+1]['status_code_cal']=='DEP':\n",
    "                if row['city']==test.loc[index+1]['city']:\n",
    "                    time_spent=(test.loc[index+1]['DateTime']-row['DateTime']).total_seconds()/60\n",
    "                    city=row['city']\n",
    "                    state=row['state']\n",
    "                    am_pm=row['am/pm']\n",
    "                    day_of_week=row['day_of_week']\n",
    "                    newrow=pd.Series([row['tracking_ID'],city,state,time_spent,am_pm,day_of_week])\n",
    "                    df=df.append(newrow,ignore_index=True)\n",
    "    return df"
   ]
  },
  {
   "cell_type": "code",
   "execution_count": 19,
   "metadata": {},
   "outputs": [],
   "source": [
    "USPS.DateTime=pd.to_datetime(USPS.DateTime)\n",
    "USPS = USPS.reset_index()\n",
    "USPS_id = list(USPS['tracking_ID'].unique())\n",
    "facility_time_usps = pd.DataFrame()\n",
    "for i in USPS_id:\n",
    "    test = USPS[USPS['tracking_ID'] == i]\n",
    "    subdf = calculate_time(test)\n",
    "    facility_time_usps = pd.concat([facility_time_usps,subdf],ignore_index=True)"
   ]
  },
  {
   "cell_type": "code",
   "execution_count": 20,
   "metadata": {},
   "outputs": [],
   "source": [
    "# calculate stops\n",
    "facility_time_usps=facility_time_usps.rename(columns={0:'tracking_id',1:'city',2:'state',3:'time',4:'am_pm',5:'day_of_week'},inplace=False)\n",
    "stops=facility_time_usps.tracking_id.value_counts().rename_axis('tracking_id').reset_index(name='counts')\n",
    "facility_time_usps=pd.merge(facility_time_usps,stops,how='left',on='tracking_id')"
   ]
  },
  {
   "cell_type": "code",
   "execution_count": 21,
   "metadata": {},
   "outputs": [],
   "source": [
    "facility_time_usps.columns =['tracking_id','city','state','time','am_pm','day_of_week','stops']"
   ]
  },
  {
   "cell_type": "code",
   "execution_count": 22,
   "metadata": {},
   "outputs": [],
   "source": [
    "facility_time_usps.to_csv('facility_time_usps.csv')"
   ]
  },
  {
   "cell_type": "markdown",
   "metadata": {},
   "source": [
    "## UPS Data Pre-Processing"
   ]
  },
  {
   "cell_type": "code",
   "execution_count": 23,
   "metadata": {},
   "outputs": [],
   "source": [
    "# get ups data\n",
    "sd_ups = scan_detail[scan_detail['source']=='UPS']"
   ]
  },
  {
   "cell_type": "code",
   "execution_count": 24,
   "metadata": {},
   "outputs": [],
   "source": [
    "# use index to filter international orders and Non-travel time records\n",
    "sd_ups=sd_ups[sd_ups['tracking_ID'].isin(index)]"
   ]
  },
  {
   "cell_type": "markdown",
   "metadata": {},
   "source": [
    "### Deal with missing value"
   ]
  },
  {
   "cell_type": "code",
   "execution_count": 25,
   "metadata": {},
   "outputs": [
    {
     "data": {
      "text/html": [
       "<div>\n",
       "<style scoped>\n",
       "    .dataframe tbody tr th:only-of-type {\n",
       "        vertical-align: middle;\n",
       "    }\n",
       "\n",
       "    .dataframe tbody tr th {\n",
       "        vertical-align: top;\n",
       "    }\n",
       "\n",
       "    .dataframe thead th {\n",
       "        text-align: right;\n",
       "    }\n",
       "</style>\n",
       "<table border=\"1\" class=\"dataframe\">\n",
       "  <thead>\n",
       "    <tr style=\"text-align: right;\">\n",
       "      <th></th>\n",
       "      <th>Unnamed: 0</th>\n",
       "      <th>tracking_ID</th>\n",
       "      <th>datetime</th>\n",
       "      <th>status_code</th>\n",
       "      <th>description</th>\n",
       "      <th>message</th>\n",
       "      <th>source</th>\n",
       "      <th>status</th>\n",
       "      <th>status_detail</th>\n",
       "      <th>city</th>\n",
       "      <th>state</th>\n",
       "      <th>country</th>\n",
       "      <th>zip</th>\n",
       "      <th>date</th>\n",
       "      <th>time</th>\n",
       "      <th>am/pm</th>\n",
       "    </tr>\n",
       "  </thead>\n",
       "  <tbody>\n",
       "    <tr>\n",
       "      <th>824414</th>\n",
       "      <td>824414</td>\n",
       "      <td>UPS_85776</td>\n",
       "      <td>2020-05-12T14:10:52Z</td>\n",
       "      <td>M</td>\n",
       "      <td>Order Processed: Ready for UPS</td>\n",
       "      <td>Order Processed: Ready for UPS</td>\n",
       "      <td>UPS</td>\n",
       "      <td>pre_transit</td>\n",
       "      <td>NaN</td>\n",
       "      <td>NaN</td>\n",
       "      <td>NaN</td>\n",
       "      <td>US</td>\n",
       "      <td>NaN</td>\n",
       "      <td>2020-05-12</td>\n",
       "      <td>14:10</td>\n",
       "      <td>pm</td>\n",
       "    </tr>\n",
       "    <tr>\n",
       "      <th>824415</th>\n",
       "      <td>824415</td>\n",
       "      <td>UPS_85776</td>\n",
       "      <td>2020-05-12T17:17:11Z</td>\n",
       "      <td>P</td>\n",
       "      <td>Pickup Scan</td>\n",
       "      <td>Pickup Scan</td>\n",
       "      <td>UPS</td>\n",
       "      <td>in_transit</td>\n",
       "      <td>NaN</td>\n",
       "      <td>Kansas City</td>\n",
       "      <td>KS</td>\n",
       "      <td>US</td>\n",
       "      <td>NaN</td>\n",
       "      <td>2020-05-12</td>\n",
       "      <td>17:17</td>\n",
       "      <td>pm</td>\n",
       "    </tr>\n",
       "    <tr>\n",
       "      <th>824416</th>\n",
       "      <td>824416</td>\n",
       "      <td>UPS_85776</td>\n",
       "      <td>2020-05-12T17:40:14Z</td>\n",
       "      <td>OS</td>\n",
       "      <td>Origin Scan</td>\n",
       "      <td>Origin Scan</td>\n",
       "      <td>UPS</td>\n",
       "      <td>in_transit</td>\n",
       "      <td>NaN</td>\n",
       "      <td>Kansas City</td>\n",
       "      <td>KS</td>\n",
       "      <td>US</td>\n",
       "      <td>NaN</td>\n",
       "      <td>2020-05-12</td>\n",
       "      <td>17:40</td>\n",
       "      <td>pm</td>\n",
       "    </tr>\n",
       "    <tr>\n",
       "      <th>824417</th>\n",
       "      <td>824417</td>\n",
       "      <td>UPS_85776</td>\n",
       "      <td>2020-05-13T0:01:00Z</td>\n",
       "      <td>OF</td>\n",
       "      <td>Departed from origin Facility</td>\n",
       "      <td>Departed from Facility</td>\n",
       "      <td>UPS</td>\n",
       "      <td>in_transit</td>\n",
       "      <td>NaN</td>\n",
       "      <td>Kansas City</td>\n",
       "      <td>KS</td>\n",
       "      <td>US</td>\n",
       "      <td>NaN</td>\n",
       "      <td>2020-05-13</td>\n",
       "      <td>0:01</td>\n",
       "      <td>am</td>\n",
       "    </tr>\n",
       "    <tr>\n",
       "      <th>824418</th>\n",
       "      <td>824418</td>\n",
       "      <td>UPS_85776</td>\n",
       "      <td>2020-05-13T0:26:00Z</td>\n",
       "      <td>I</td>\n",
       "      <td>Arrived at Destination Facility</td>\n",
       "      <td>Arrived at Facility</td>\n",
       "      <td>UPS</td>\n",
       "      <td>in_transit</td>\n",
       "      <td>NaN</td>\n",
       "      <td>Lenexa</td>\n",
       "      <td>KS</td>\n",
       "      <td>US</td>\n",
       "      <td>NaN</td>\n",
       "      <td>2020-05-13</td>\n",
       "      <td>0:26</td>\n",
       "      <td>am</td>\n",
       "    </tr>\n",
       "  </tbody>\n",
       "</table>\n",
       "</div>"
      ],
      "text/plain": [
       "        Unnamed: 0 tracking_ID              datetime status_code  \\\n",
       "824414      824414   UPS_85776  2020-05-12T14:10:52Z           M   \n",
       "824415      824415   UPS_85776  2020-05-12T17:17:11Z           P   \n",
       "824416      824416   UPS_85776  2020-05-12T17:40:14Z          OS   \n",
       "824417      824417   UPS_85776   2020-05-13T0:01:00Z          OF   \n",
       "824418      824418   UPS_85776   2020-05-13T0:26:00Z           I   \n",
       "\n",
       "                            description                         message  \\\n",
       "824414   Order Processed: Ready for UPS  Order Processed: Ready for UPS   \n",
       "824415                      Pickup Scan                     Pickup Scan   \n",
       "824416                      Origin Scan                     Origin Scan   \n",
       "824417    Departed from origin Facility          Departed from Facility   \n",
       "824418  Arrived at Destination Facility             Arrived at Facility   \n",
       "\n",
       "       source       status status_detail         city state country  zip  \\\n",
       "824414    UPS  pre_transit           NaN          NaN   NaN      US  NaN   \n",
       "824415    UPS   in_transit           NaN  Kansas City    KS      US  NaN   \n",
       "824416    UPS   in_transit           NaN  Kansas City    KS      US  NaN   \n",
       "824417    UPS   in_transit           NaN  Kansas City    KS      US  NaN   \n",
       "824418    UPS   in_transit           NaN       Lenexa    KS      US  NaN   \n",
       "\n",
       "              date   time am/pm  \n",
       "824414  2020-05-12  14:10    pm  \n",
       "824415  2020-05-12  17:17    pm  \n",
       "824416  2020-05-12  17:40    pm  \n",
       "824417  2020-05-13   0:01    am  \n",
       "824418  2020-05-13   0:26    am  "
      ]
     },
     "execution_count": 25,
     "metadata": {},
     "output_type": "execute_result"
    }
   ],
   "source": [
    "sd_ups['date']=sd_ups['datetime'].str.split('T').str[0]\n",
    "sd_ups['time'] = sd_ups['datetime'].str.split('T').str[1]\n",
    "sd_ups['time'] = sd_ups['time'].str[0:-4]\n",
    "sd_ups['new_time'] = sd_ups['time'].str.split(':').str[0]\n",
    "sd_ups['am/pm'] = sd_ups.new_time.apply(lambda x: 'pm' if int(x) >= 12 else 'am')\n",
    "sd_ups = sd_ups.drop(columns = ['new_time'])\n",
    "sd_ups.head()"
   ]
  },
  {
   "cell_type": "code",
   "execution_count": 26,
   "metadata": {},
   "outputs": [],
   "source": [
    "sd_ups.to_csv('scan_detail_UPS.csv')"
   ]
  },
  {
   "cell_type": "markdown",
   "metadata": {},
   "source": [
    "### Regulate status code"
   ]
  },
  {
   "cell_type": "code",
   "execution_count": 27,
   "metadata": {},
   "outputs": [],
   "source": [
    "ups_detail = pd.read_csv('scan_detail_ups.csv')\n",
    "ups = ups_detail.loc[(ups_detail['status_code'] == 'T1')|\n",
    "                     (ups_detail['status_code'] == 'F1')|\n",
    "                     (ups_detail['status_code'] == 'T2')|\n",
    "                     (ups_detail['status_code'] == 'F2')| \n",
    "                     (ups_detail['status_code'] == 'T3')| \n",
    "                     (ups_detail['status_code'] == 'F3')|\n",
    "                     (ups_detail['status_code'] == 'T4')| \n",
    "                     (ups_detail['status_code'] == 'F4')| \n",
    "                     (ups_detail['status_code'] == 'T5')|\n",
    "                     (ups_detail['status_code'] == 'F5')|\n",
    "                     (ups_detail['status_code'] == 'T6')|\n",
    "                     (ups_detail['status_code'] == 'F6')|\n",
    "                     (ups_detail['status_code'] == 'I')|\n",
    "                     (ups_detail['status_code'] == 'OF')|\n",
    "                     (ups_detail['status_code'] == 'OD')]"
   ]
  },
  {
   "cell_type": "code",
   "execution_count": 28,
   "metadata": {},
   "outputs": [
    {
     "data": {
      "text/html": [
       "<div>\n",
       "<style scoped>\n",
       "    .dataframe tbody tr th:only-of-type {\n",
       "        vertical-align: middle;\n",
       "    }\n",
       "\n",
       "    .dataframe tbody tr th {\n",
       "        vertical-align: top;\n",
       "    }\n",
       "\n",
       "    .dataframe thead th {\n",
       "        text-align: right;\n",
       "    }\n",
       "</style>\n",
       "<table border=\"1\" class=\"dataframe\">\n",
       "  <thead>\n",
       "    <tr style=\"text-align: right;\">\n",
       "      <th></th>\n",
       "      <th>Unnamed: 0</th>\n",
       "      <th>Unnamed: 0.1</th>\n",
       "      <th>tracking_ID</th>\n",
       "      <th>datetime</th>\n",
       "      <th>status_code</th>\n",
       "      <th>description</th>\n",
       "      <th>message</th>\n",
       "      <th>source</th>\n",
       "      <th>status</th>\n",
       "      <th>status_detail</th>\n",
       "      <th>city</th>\n",
       "      <th>state</th>\n",
       "      <th>country</th>\n",
       "      <th>zip</th>\n",
       "      <th>date</th>\n",
       "      <th>time</th>\n",
       "      <th>am/pm</th>\n",
       "      <th>status_code_cal</th>\n",
       "    </tr>\n",
       "  </thead>\n",
       "  <tbody>\n",
       "    <tr>\n",
       "      <th>3</th>\n",
       "      <td>824417</td>\n",
       "      <td>824417</td>\n",
       "      <td>UPS_85776</td>\n",
       "      <td>2020-05-13T0:01:00Z</td>\n",
       "      <td>OF</td>\n",
       "      <td>Departed from origin Facility</td>\n",
       "      <td>Departed from Facility</td>\n",
       "      <td>UPS</td>\n",
       "      <td>in_transit</td>\n",
       "      <td>NaN</td>\n",
       "      <td>Kansas City</td>\n",
       "      <td>KS</td>\n",
       "      <td>US</td>\n",
       "      <td>NaN</td>\n",
       "      <td>2020-05-13</td>\n",
       "      <td>0:01</td>\n",
       "      <td>am</td>\n",
       "      <td>DEP</td>\n",
       "    </tr>\n",
       "    <tr>\n",
       "      <th>4</th>\n",
       "      <td>824418</td>\n",
       "      <td>824418</td>\n",
       "      <td>UPS_85776</td>\n",
       "      <td>2020-05-13T0:26:00Z</td>\n",
       "      <td>I</td>\n",
       "      <td>Arrived at Destination Facility</td>\n",
       "      <td>Arrived at Facility</td>\n",
       "      <td>UPS</td>\n",
       "      <td>in_transit</td>\n",
       "      <td>NaN</td>\n",
       "      <td>Lenexa</td>\n",
       "      <td>KS</td>\n",
       "      <td>US</td>\n",
       "      <td>NaN</td>\n",
       "      <td>2020-05-13</td>\n",
       "      <td>0:26</td>\n",
       "      <td>am</td>\n",
       "      <td>ARR</td>\n",
       "    </tr>\n",
       "    <tr>\n",
       "      <th>7</th>\n",
       "      <td>824421</td>\n",
       "      <td>824421</td>\n",
       "      <td>UPS_85776</td>\n",
       "      <td>2020-05-13T9:14:51Z</td>\n",
       "      <td>OD</td>\n",
       "      <td>Out For Delivery Today</td>\n",
       "      <td>Out For Delivery Today</td>\n",
       "      <td>UPS</td>\n",
       "      <td>in_transit</td>\n",
       "      <td>NaN</td>\n",
       "      <td>Lenexa</td>\n",
       "      <td>KS</td>\n",
       "      <td>US</td>\n",
       "      <td>NaN</td>\n",
       "      <td>2020-05-13</td>\n",
       "      <td>9:14</td>\n",
       "      <td>am</td>\n",
       "      <td>DEP</td>\n",
       "    </tr>\n",
       "    <tr>\n",
       "      <th>11</th>\n",
       "      <td>824425</td>\n",
       "      <td>824425</td>\n",
       "      <td>UPS_85777</td>\n",
       "      <td>2020-06-23T20:32:00Z</td>\n",
       "      <td>OF</td>\n",
       "      <td>Departed from origin Facility</td>\n",
       "      <td>Departed from Facility</td>\n",
       "      <td>UPS</td>\n",
       "      <td>in_transit</td>\n",
       "      <td>NaN</td>\n",
       "      <td>West Yarmouth</td>\n",
       "      <td>MA</td>\n",
       "      <td>US</td>\n",
       "      <td>NaN</td>\n",
       "      <td>2020-06-23</td>\n",
       "      <td>20:32</td>\n",
       "      <td>pm</td>\n",
       "      <td>DEP</td>\n",
       "    </tr>\n",
       "    <tr>\n",
       "      <th>12</th>\n",
       "      <td>824426</td>\n",
       "      <td>824426</td>\n",
       "      <td>UPS_85777</td>\n",
       "      <td>2020-06-23T22:52:00Z</td>\n",
       "      <td>T1</td>\n",
       "      <td>Arrived at Facility 1</td>\n",
       "      <td>Arrived at Facility</td>\n",
       "      <td>UPS</td>\n",
       "      <td>in_transit</td>\n",
       "      <td>NaN</td>\n",
       "      <td>Shrewsbury</td>\n",
       "      <td>MA</td>\n",
       "      <td>US</td>\n",
       "      <td>NaN</td>\n",
       "      <td>2020-06-23</td>\n",
       "      <td>22:52</td>\n",
       "      <td>pm</td>\n",
       "      <td>ARR</td>\n",
       "    </tr>\n",
       "  </tbody>\n",
       "</table>\n",
       "</div>"
      ],
      "text/plain": [
       "    Unnamed: 0  Unnamed: 0.1 tracking_ID              datetime status_code  \\\n",
       "3       824417        824417   UPS_85776   2020-05-13T0:01:00Z          OF   \n",
       "4       824418        824418   UPS_85776   2020-05-13T0:26:00Z           I   \n",
       "7       824421        824421   UPS_85776   2020-05-13T9:14:51Z          OD   \n",
       "11      824425        824425   UPS_85777  2020-06-23T20:32:00Z          OF   \n",
       "12      824426        824426   UPS_85777  2020-06-23T22:52:00Z          T1   \n",
       "\n",
       "                        description                 message source  \\\n",
       "3     Departed from origin Facility  Departed from Facility    UPS   \n",
       "4   Arrived at Destination Facility     Arrived at Facility    UPS   \n",
       "7            Out For Delivery Today  Out For Delivery Today    UPS   \n",
       "11    Departed from origin Facility  Departed from Facility    UPS   \n",
       "12            Arrived at Facility 1     Arrived at Facility    UPS   \n",
       "\n",
       "        status status_detail           city state country  zip        date  \\\n",
       "3   in_transit           NaN    Kansas City    KS      US  NaN  2020-05-13   \n",
       "4   in_transit           NaN         Lenexa    KS      US  NaN  2020-05-13   \n",
       "7   in_transit           NaN         Lenexa    KS      US  NaN  2020-05-13   \n",
       "11  in_transit           NaN  West Yarmouth    MA      US  NaN  2020-06-23   \n",
       "12  in_transit           NaN     Shrewsbury    MA      US  NaN  2020-06-23   \n",
       "\n",
       "     time am/pm status_code_cal  \n",
       "3    0:01    am             DEP  \n",
       "4    0:26    am             ARR  \n",
       "7    9:14    am             DEP  \n",
       "11  20:32    pm             DEP  \n",
       "12  22:52    pm             ARR  "
      ]
     },
     "execution_count": 28,
     "metadata": {},
     "output_type": "execute_result"
    }
   ],
   "source": [
    "ups['status_code_cal'] = ups['status_code']\n",
    "ups['status_code_cal'] = ups['status_code_cal'].replace('T1', 'ARR')\n",
    "ups['status_code_cal'] = ups['status_code_cal'].replace('T2', 'ARR')\n",
    "ups['status_code_cal'] = ups['status_code_cal'].replace('T3', 'ARR')\n",
    "ups['status_code_cal'] = ups['status_code_cal'].replace('T4', 'ARR')\n",
    "ups['status_code_cal'] = ups['status_code_cal'].replace('T5', 'ARR')\n",
    "ups['status_code_cal'] = ups['status_code_cal'].replace('T6', 'ARR')\n",
    "ups['status_code_cal'] = ups['status_code_cal'].replace('I', 'ARR')\n",
    "ups['status_code_cal'] = ups['status_code_cal'].replace('F1', 'DEP')\n",
    "ups['status_code_cal'] = ups['status_code_cal'].replace('F2', 'DEP')\n",
    "ups['status_code_cal'] = ups['status_code_cal'].replace('F3', 'DEP')\n",
    "ups['status_code_cal'] = ups['status_code_cal'].replace('F4', 'DEP')\n",
    "ups['status_code_cal'] = ups['status_code_cal'].replace('F5', 'DEP')\n",
    "ups['status_code_cal'] = ups['status_code_cal'].replace('F6', 'DEP')\n",
    "ups['status_code_cal'] = ups['status_code_cal'].replace('OF', 'DEP')\n",
    "ups['status_code_cal'] = ups['status_code_cal'].replace('OD', 'DEP')\n",
    "ups.head()"
   ]
  },
  {
   "cell_type": "code",
   "execution_count": 29,
   "metadata": {},
   "outputs": [],
   "source": [
    "ups = ups.drop('datetime',axis=1)\n",
    "ups['DateTime'] = ups['date'] +' '+ ups['time']\n",
    "ups['DateTime'] = pd.to_datetime(ups['DateTime'])\n",
    "ups['day_of_week']=ups['DateTime'].apply(lambda x:x.isoweekday())\n",
    "ups = ups.reset_index()"
   ]
  },
  {
   "cell_type": "markdown",
   "metadata": {},
   "source": [
    "### Calculate time difference"
   ]
  },
  {
   "cell_type": "code",
   "execution_count": 30,
   "metadata": {},
   "outputs": [],
   "source": [
    "ups_id = list(ups['tracking_ID'].unique())\n",
    "facility_time_ups = pd.DataFrame()\n",
    "for i in ups_id:\n",
    "    test = ups[ups['tracking_ID'] == i]\n",
    "    subdf = calculate_time(test)\n",
    "    facility_time_ups = pd.concat([facility_time_ups,subdf],ignore_index=True)"
   ]
  },
  {
   "cell_type": "code",
   "execution_count": 31,
   "metadata": {},
   "outputs": [],
   "source": [
    "# # calculate stops\n",
    "facility_time_ups=facility_time_ups.rename(columns={0:'tracking_id',1:'city',2:'state',3:'time',4:'am_pm',5:'day_of_week'},inplace=False)\n",
    "stops=facility_time_ups.tracking_id.value_counts().rename_axis('tracking_id').reset_index(name='counts')\n",
    "facility_time_ups=pd.merge(facility_time_ups,stops,how='left',on='tracking_id')"
   ]
  },
  {
   "cell_type": "code",
   "execution_count": 32,
   "metadata": {},
   "outputs": [],
   "source": [
    "facility_time_ups.columns =['tracking_id','city','state','time','am_pm','day_of_week','stops']"
   ]
  },
  {
   "cell_type": "code",
   "execution_count": 33,
   "metadata": {},
   "outputs": [],
   "source": [
    "facility_time_ups.to_csv('facility_time_ups.csv')"
   ]
  },
  {
   "cell_type": "markdown",
   "metadata": {},
   "source": [
    "## FedEx Data Pre-Processing"
   ]
  },
  {
   "cell_type": "code",
   "execution_count": 34,
   "metadata": {},
   "outputs": [],
   "source": [
    "sd_fedex = scan_detail[scan_detail['source']=='FedEx']"
   ]
  },
  {
   "cell_type": "code",
   "execution_count": 35,
   "metadata": {},
   "outputs": [],
   "source": [
    "# use index to filter international orders and Non-travel time records\n",
    "sd_fedex=sd_fedex[sd_fedex['tracking_ID'].isin(index)]\n",
    "sd_fedex=sd_fedex.iloc[::-1].reset_index().drop(['index','Unnamed: 0'],axis=1)"
   ]
  },
  {
   "cell_type": "markdown",
   "metadata": {},
   "source": [
    "### Deal with missing value"
   ]
  },
  {
   "cell_type": "code",
   "execution_count": 36,
   "metadata": {},
   "outputs": [],
   "source": [
    "sd_fedex['date']=sd_fedex['datetime'].str.split('T').str[0]\n",
    "sd_fedex['time'] = sd_fedex['datetime'].str.split('T').str[1]\n",
    "sd_fedex['time'] = sd_fedex['time'].str[0:-4]\n",
    "sd_fedex['time'] = sd_fedex['time'].replace('', '00:00')\n",
    "for i in range(len(sd_fedex['time'])):\n",
    "    if sd_fedex['time'].iloc[i] == '00:00':\n",
    "        sd_fedex['time'].iloc[i] = sd_fedex['time'].iloc[i-1]\n",
    "sd_fedex['new_time'] = sd_fedex['time'].str.split(':').str[0]\n",
    "sd_fedex['am/pm'] = sd_fedex.new_time.apply(lambda x: 'pm' if int(x) >= 12 else 'am')\n",
    "sd_fedex = sd_fedex.drop(columns = ['new_time'])"
   ]
  },
  {
   "cell_type": "code",
   "execution_count": 37,
   "metadata": {},
   "outputs": [],
   "source": [
    "sd_fedex = sd_fedex.drop('datetime',axis=1)\n",
    "sd_fedex['DateTime'] = sd_fedex['date'] +' '+ sd_fedex['time']\n",
    "sd_fedex['DateTime'] = pd.to_datetime(sd_fedex['DateTime'])\n",
    "sd_fedex['day_of_week']=sd_fedex['DateTime'].apply(lambda x:x.isoweekday())\n",
    "sd_fedex = sd_fedex.reset_index()"
   ]
  },
  {
   "cell_type": "code",
   "execution_count": 38,
   "metadata": {},
   "outputs": [
    {
     "data": {
      "text/html": [
       "<div>\n",
       "<style scoped>\n",
       "    .dataframe tbody tr th:only-of-type {\n",
       "        vertical-align: middle;\n",
       "    }\n",
       "\n",
       "    .dataframe tbody tr th {\n",
       "        vertical-align: top;\n",
       "    }\n",
       "\n",
       "    .dataframe thead th {\n",
       "        text-align: right;\n",
       "    }\n",
       "</style>\n",
       "<table border=\"1\" class=\"dataframe\">\n",
       "  <thead>\n",
       "    <tr style=\"text-align: right;\">\n",
       "      <th></th>\n",
       "      <th>index</th>\n",
       "      <th>tracking_ID</th>\n",
       "      <th>status_code</th>\n",
       "      <th>description</th>\n",
       "      <th>message</th>\n",
       "      <th>source</th>\n",
       "      <th>status</th>\n",
       "      <th>status_detail</th>\n",
       "      <th>city</th>\n",
       "      <th>state</th>\n",
       "      <th>country</th>\n",
       "      <th>zip</th>\n",
       "      <th>date</th>\n",
       "      <th>time</th>\n",
       "      <th>am/pm</th>\n",
       "      <th>DateTime</th>\n",
       "      <th>day_of_week</th>\n",
       "    </tr>\n",
       "  </thead>\n",
       "  <tbody>\n",
       "    <tr>\n",
       "      <th>0</th>\n",
       "      <td>0</td>\n",
       "      <td>FedEx_137283</td>\n",
       "      <td>DL</td>\n",
       "      <td>Delivered</td>\n",
       "      <td>NaN</td>\n",
       "      <td>FedEx</td>\n",
       "      <td>NaN</td>\n",
       "      <td>NaN</td>\n",
       "      <td>Miami</td>\n",
       "      <td>FL</td>\n",
       "      <td>US</td>\n",
       "      <td>33137</td>\n",
       "      <td>2020-06-24</td>\n",
       "      <td>12:19</td>\n",
       "      <td>pm</td>\n",
       "      <td>2020-06-24 12:19:00</td>\n",
       "      <td>3</td>\n",
       "    </tr>\n",
       "    <tr>\n",
       "      <th>1</th>\n",
       "      <td>1</td>\n",
       "      <td>FedEx_137283</td>\n",
       "      <td>OD</td>\n",
       "      <td>On FedEx vehicle for delivery</td>\n",
       "      <td>NaN</td>\n",
       "      <td>FedEx</td>\n",
       "      <td>NaN</td>\n",
       "      <td>NaN</td>\n",
       "      <td>MIAMI</td>\n",
       "      <td>FL</td>\n",
       "      <td>US</td>\n",
       "      <td>33178</td>\n",
       "      <td>2020-06-24</td>\n",
       "      <td>08:55</td>\n",
       "      <td>am</td>\n",
       "      <td>2020-06-24 08:55:00</td>\n",
       "      <td>3</td>\n",
       "    </tr>\n",
       "    <tr>\n",
       "      <th>2</th>\n",
       "      <td>2</td>\n",
       "      <td>FedEx_137283</td>\n",
       "      <td>OD</td>\n",
       "      <td>On FedEx vehicle for delivery</td>\n",
       "      <td>NaN</td>\n",
       "      <td>FedEx</td>\n",
       "      <td>NaN</td>\n",
       "      <td>NaN</td>\n",
       "      <td>MIAMI</td>\n",
       "      <td>FL</td>\n",
       "      <td>US</td>\n",
       "      <td>33178</td>\n",
       "      <td>2020-06-17</td>\n",
       "      <td>05:41</td>\n",
       "      <td>am</td>\n",
       "      <td>2020-06-17 05:41:00</td>\n",
       "      <td>3</td>\n",
       "    </tr>\n",
       "    <tr>\n",
       "      <th>3</th>\n",
       "      <td>3</td>\n",
       "      <td>FedEx_137283</td>\n",
       "      <td>AR</td>\n",
       "      <td>At local FedEx facility</td>\n",
       "      <td>NaN</td>\n",
       "      <td>FedEx</td>\n",
       "      <td>NaN</td>\n",
       "      <td>NaN</td>\n",
       "      <td>MIAMI</td>\n",
       "      <td>FL</td>\n",
       "      <td>US</td>\n",
       "      <td>33178</td>\n",
       "      <td>2020-06-17</td>\n",
       "      <td>05:17</td>\n",
       "      <td>am</td>\n",
       "      <td>2020-06-17 05:17:00</td>\n",
       "      <td>3</td>\n",
       "    </tr>\n",
       "    <tr>\n",
       "      <th>4</th>\n",
       "      <td>4</td>\n",
       "      <td>FedEx_137283</td>\n",
       "      <td>OD</td>\n",
       "      <td>On FedEx vehicle for delivery</td>\n",
       "      <td>NaN</td>\n",
       "      <td>FedEx</td>\n",
       "      <td>NaN</td>\n",
       "      <td>NaN</td>\n",
       "      <td>MIAMI</td>\n",
       "      <td>FL</td>\n",
       "      <td>US</td>\n",
       "      <td>33178</td>\n",
       "      <td>2020-06-16</td>\n",
       "      <td>07:52</td>\n",
       "      <td>am</td>\n",
       "      <td>2020-06-16 07:52:00</td>\n",
       "      <td>2</td>\n",
       "    </tr>\n",
       "  </tbody>\n",
       "</table>\n",
       "</div>"
      ],
      "text/plain": [
       "   index   tracking_ID status_code                    description message  \\\n",
       "0      0  FedEx_137283          DL                      Delivered     NaN   \n",
       "1      1  FedEx_137283          OD  On FedEx vehicle for delivery     NaN   \n",
       "2      2  FedEx_137283          OD  On FedEx vehicle for delivery     NaN   \n",
       "3      3  FedEx_137283          AR        At local FedEx facility     NaN   \n",
       "4      4  FedEx_137283          OD  On FedEx vehicle for delivery     NaN   \n",
       "\n",
       "  source status status_detail   city state country    zip        date   time  \\\n",
       "0  FedEx    NaN           NaN  Miami    FL      US  33137  2020-06-24  12:19   \n",
       "1  FedEx    NaN           NaN  MIAMI    FL      US  33178  2020-06-24  08:55   \n",
       "2  FedEx    NaN           NaN  MIAMI    FL      US  33178  2020-06-17  05:41   \n",
       "3  FedEx    NaN           NaN  MIAMI    FL      US  33178  2020-06-17  05:17   \n",
       "4  FedEx    NaN           NaN  MIAMI    FL      US  33178  2020-06-16  07:52   \n",
       "\n",
       "  am/pm            DateTime  day_of_week  \n",
       "0    pm 2020-06-24 12:19:00            3  \n",
       "1    am 2020-06-24 08:55:00            3  \n",
       "2    am 2020-06-17 05:41:00            3  \n",
       "3    am 2020-06-17 05:17:00            3  \n",
       "4    am 2020-06-16 07:52:00            2  "
      ]
     },
     "execution_count": 38,
     "metadata": {},
     "output_type": "execute_result"
    }
   ],
   "source": [
    "sd_fedex.head()"
   ]
  },
  {
   "cell_type": "code",
   "execution_count": 39,
   "metadata": {},
   "outputs": [],
   "source": [
    "# sd_fedex.to_csv('scan_detail_FedEx.csv')"
   ]
  },
  {
   "cell_type": "markdown",
   "metadata": {},
   "source": [
    "### Regulate status code"
   ]
  },
  {
   "cell_type": "code",
   "execution_count": 40,
   "metadata": {},
   "outputs": [],
   "source": [
    "# use index to filter international orders and Non-travel time records\n",
    "Fedex=sd_fedex[sd_fedex['tracking_ID'].isin(index)]\n",
    "# filter out some status code\n",
    "Fedex=Fedex[(Fedex['status_code']!='SH') & (Fedex['status_code']!='OC')]"
   ]
  },
  {
   "cell_type": "code",
   "execution_count": 41,
   "metadata": {},
   "outputs": [],
   "source": [
    "Fedex['DateTime']=pd.to_datetime(Fedex['DateTime'])\n",
    "# sort dataframe by datetime\n",
    "Fedex=Fedex.sort_values(['tracking_ID', 'DateTime'])"
   ]
  },
  {
   "cell_type": "code",
   "execution_count": 42,
   "metadata": {},
   "outputs": [],
   "source": [
    "#filter missing values in city and state\n",
    "Fedex['state'] = Fedex['state'].fillna('unknown')\n",
    "Fedex['city'] = Fedex['city'].fillna('unknown')\n",
    "for i in range(len(Fedex['state'])):\n",
    "    if Fedex['state'].iloc[i]=='unknown':\n",
    "        Fedex['state'].iloc[i] = Fedex['state'].iloc[i-1]\n",
    "for i in range(len(Fedex['city'])):\n",
    "    if Fedex['city'].iloc[i]=='unknown':\n",
    "        Fedex['city'].iloc[i] = Fedex['state'].iloc[i-1]"
   ]
  },
  {
   "cell_type": "markdown",
   "metadata": {},
   "source": [
    "### Calculate time difference"
   ]
  },
  {
   "cell_type": "code",
   "execution_count": 43,
   "metadata": {},
   "outputs": [],
   "source": [
    "# calculate day_of_week\n",
    "Fedex['day_of_week']=Fedex['DateTime'].apply(lambda x:x.isoweekday())"
   ]
  },
  {
   "cell_type": "code",
   "execution_count": 44,
   "metadata": {},
   "outputs": [],
   "source": [
    "def calculate_time_fedex(test):\n",
    "    last_index=test.iloc[-1:].index[0]\n",
    "    df=pd.DataFrame()\n",
    "    for index,row in test.iterrows():\n",
    "        if index!=last_index:\n",
    "            if row['status_code']=='AR' and test.loc[index+1]['status_code']!='AR':\n",
    "                if row['city']==test.loc[index+1]['city']:\n",
    "                    time_spent=(test.loc[index+1]['DateTime']-row['DateTime']).total_seconds()/60\n",
    "                    city=row['city']\n",
    "                    state=row['state']\n",
    "                    am_pm=row['am/pm']\n",
    "                    day_of_week=row['day_of_week']\n",
    "                    newrow=pd.Series([row['tracking_ID'],city,state,time_spent,am_pm,day_of_week])\n",
    "                    df=df.append(newrow,ignore_index=True)\n",
    "    return df"
   ]
  },
  {
   "cell_type": "code",
   "execution_count": 45,
   "metadata": {},
   "outputs": [],
   "source": [
    "facility_time_fedex=pd.DataFrame()\n",
    "Fedex = Fedex.reset_index()\n",
    "for i in Fedex['tracking_ID'].unique():\n",
    "    test=Fedex[Fedex['tracking_ID']==i]\n",
    "    subdf=calculate_time_fedex(test)\n",
    "    facility_time_fedex=pd.concat([facility_time_fedex,subdf],ignore_index=True)"
   ]
  },
  {
   "cell_type": "code",
   "execution_count": 46,
   "metadata": {},
   "outputs": [],
   "source": [
    "# calculate stops\n",
    "facility_time_fedex=facility_time_fedex.rename(columns={0:'tracking_id',1:'city',2:'state',3:'time',4:'am_pm',5:'day_of_week'},inplace=False)\n",
    "stops=facility_time_fedex.tracking_id.value_counts().rename_axis('tracking_id').reset_index(name='counts')\n",
    "facility_time_fedex=pd.merge(facility_time_fedex,stops,how='left',on='tracking_id')"
   ]
  },
  {
   "cell_type": "code",
   "execution_count": 47,
   "metadata": {},
   "outputs": [],
   "source": [
    "facility_time_fedex.columns =['tracking_id','city','state','time','am_pm','day_of_week','stops']"
   ]
  },
  {
   "cell_type": "code",
   "execution_count": 48,
   "metadata": {},
   "outputs": [],
   "source": [
    "facility_time_fedex.to_csv('facility_time_fedex.csv')"
   ]
  }
 ],
 "metadata": {
  "kernelspec": {
   "display_name": "Python 3",
   "language": "python",
   "name": "python3"
  },
  "language_info": {
   "codemirror_mode": {
    "name": "ipython",
    "version": 3
   },
   "file_extension": ".py",
   "mimetype": "text/x-python",
   "name": "python",
   "nbconvert_exporter": "python",
   "pygments_lexer": "ipython3",
   "version": "3.7.7"
  }
 },
 "nbformat": 4,
 "nbformat_minor": 4
}
